{
  "cells": [
    {
      "cell_type": "code",
      "execution_count": null,
      "metadata": {
        "colab": {
          "base_uri": "https://localhost:8080/"
        },
        "id": "JU333RiSay6F",
        "outputId": "b152b984-4da0-44fb-fb19-f90bbe55d08e"
      },
      "outputs": [
        {
          "output_type": "stream",
          "name": "stdout",
          "text": [
            "Collecting SALib\n",
            "  Downloading salib-1.5.0-py3-none-any.whl (778 kB)\n",
            "\u001b[2K     \u001b[90m━━━━━━━━━━━━━━━━━━━━━━━━━━━━━━━━━━━━━━━━\u001b[0m \u001b[32m778.8/778.8 kB\u001b[0m \u001b[31m9.1 MB/s\u001b[0m eta \u001b[36m0:00:00\u001b[0m\n",
            "\u001b[?25hRequirement already satisfied: matplotlib>=3.5 in /usr/local/lib/python3.10/dist-packages (from SALib) (3.7.1)\n",
            "Collecting multiprocess (from SALib)\n",
            "  Downloading multiprocess-0.70.16-py310-none-any.whl (134 kB)\n",
            "\u001b[2K     \u001b[90m━━━━━━━━━━━━━━━━━━━━━━━━━━━━━━━━━━━━━━━━\u001b[0m \u001b[32m134.8/134.8 kB\u001b[0m \u001b[31m17.6 MB/s\u001b[0m eta \u001b[36m0:00:00\u001b[0m\n",
            "\u001b[?25hRequirement already satisfied: numpy>=1.20.3 in /usr/local/lib/python3.10/dist-packages (from SALib) (1.25.2)\n",
            "Requirement already satisfied: pandas>=2.0 in /usr/local/lib/python3.10/dist-packages (from SALib) (2.0.3)\n",
            "Requirement already satisfied: scipy>=1.9.3 in /usr/local/lib/python3.10/dist-packages (from SALib) (1.11.4)\n",
            "Requirement already satisfied: contourpy>=1.0.1 in /usr/local/lib/python3.10/dist-packages (from matplotlib>=3.5->SALib) (1.2.1)\n",
            "Requirement already satisfied: cycler>=0.10 in /usr/local/lib/python3.10/dist-packages (from matplotlib>=3.5->SALib) (0.12.1)\n",
            "Requirement already satisfied: fonttools>=4.22.0 in /usr/local/lib/python3.10/dist-packages (from matplotlib>=3.5->SALib) (4.51.0)\n",
            "Requirement already satisfied: kiwisolver>=1.0.1 in /usr/local/lib/python3.10/dist-packages (from matplotlib>=3.5->SALib) (1.4.5)\n",
            "Requirement already satisfied: packaging>=20.0 in /usr/local/lib/python3.10/dist-packages (from matplotlib>=3.5->SALib) (24.0)\n",
            "Requirement already satisfied: pillow>=6.2.0 in /usr/local/lib/python3.10/dist-packages (from matplotlib>=3.5->SALib) (9.4.0)\n",
            "Requirement already satisfied: pyparsing>=2.3.1 in /usr/local/lib/python3.10/dist-packages (from matplotlib>=3.5->SALib) (3.1.2)\n",
            "Requirement already satisfied: python-dateutil>=2.7 in /usr/local/lib/python3.10/dist-packages (from matplotlib>=3.5->SALib) (2.8.2)\n",
            "Requirement already satisfied: pytz>=2020.1 in /usr/local/lib/python3.10/dist-packages (from pandas>=2.0->SALib) (2023.4)\n",
            "Requirement already satisfied: tzdata>=2022.1 in /usr/local/lib/python3.10/dist-packages (from pandas>=2.0->SALib) (2024.1)\n",
            "Collecting dill>=0.3.8 (from multiprocess->SALib)\n",
            "  Downloading dill-0.3.8-py3-none-any.whl (116 kB)\n",
            "\u001b[2K     \u001b[90m━━━━━━━━━━━━━━━━━━━━━━━━━━━━━━━━━━━━━━━━\u001b[0m \u001b[32m116.3/116.3 kB\u001b[0m \u001b[31m8.2 MB/s\u001b[0m eta \u001b[36m0:00:00\u001b[0m\n",
            "\u001b[?25hRequirement already satisfied: six>=1.5 in /usr/local/lib/python3.10/dist-packages (from python-dateutil>=2.7->matplotlib>=3.5->SALib) (1.16.0)\n",
            "Installing collected packages: dill, multiprocess, SALib\n",
            "Successfully installed SALib-1.5.0 dill-0.3.8 multiprocess-0.70.16\n"
          ]
        }
      ],
      "source": [
        "! pip install SALib"
      ]
    },
    {
      "cell_type": "code",
      "execution_count": null,
      "metadata": {
        "id": "7RdAYGOFuBrg"
      },
      "outputs": [],
      "source": [
        "import sys\n",
        "\n",
        "from SALib.sample import saltelli,finite_diff, fast_sampler\n",
        "from SALib.analyze import morris,sobol, dgsm, fast, delta\n",
        "from SALib.util import read_param_file\n",
        "from SALib.sample.morris import sample\n",
        "from SALib.plotting.morris import horizontal_bar_plot, covariance_plot, sample_histograms\n",
        "\n",
        "import numpy as np\n",
        "import pandas\n",
        "import math\n",
        "\n",
        "\n",
        "from keras.optimizers import SGD\n",
        "from keras.callbacks import EarlyStopping\n",
        "\n",
        "from sklearn.metrics import mean_squared_error,f1_score, accuracy_score\n",
        "from sklearn.metrics import roc_curve, auc\n",
        "import copy\n",
        "import os\n",
        "import pandas as pd\n",
        "import matplotlib as mpl\n",
        "import matplotlib.pyplot as plt\n",
        "import torch\n",
        "import torchvision\n",
        "import torchvision.transforms as transforms\n",
        "import torchvision.transforms.functional as TF\n",
        "from torch import nn, Tensor, optim\n",
        "from torchvision import datasets, transforms, models\n",
        "import torch.nn.functional as F\n",
        "from torch.autograd import Variable\n",
        "from torchvision import models\n",
        "\n",
        "import json,pickle\n",
        "\n",
        "from skimage.color import gray2rgb, rgb2gray, label2rgb\n",
        "from sklearn.metrics import confusion_matrix"
      ]
    },
    {
      "cell_type": "code",
      "execution_count": null,
      "metadata": {
        "colab": {
          "base_uri": "https://localhost:8080/"
        },
        "id": "1UNqe4cJvZvE",
        "outputId": "742a4bfd-0330-4b2c-b8da-717cc15adb3b"
      },
      "outputs": [
        {
          "output_type": "stream",
          "name": "stdout",
          "text": [
            "Mounted at /content/drive\n"
          ]
        }
      ],
      "source": [
        "from google.colab import drive\n",
        "from google.colab import files\n",
        "drive.mount('/content/drive')"
      ]
    },
    {
      "cell_type": "code",
      "execution_count": null,
      "metadata": {
        "id": "XCgT45evaekH"
      },
      "outputs": [],
      "source": [
        "class Network(nn.Module):\n",
        "    def __init__(self):\n",
        "        super(Network, self).__init__()\n",
        "        # Convolutional Neural Network Layer\n",
        "        self.convolutaional_neural_network_layers = nn.Sequential(\n",
        "                # Here we are defining our 2D convolutional layers\n",
        "                # We can calculate the output size of each convolutional layer using the following formular\n",
        "                # outputOfEachConvLayer = [(in_channel + 2*padding - kernel_size) / stride] + 1\n",
        "                # We have in_channels=1 because our input is a grayscale image\n",
        "                nn.Conv2d(in_channels=1, out_channels=12, kernel_size=3, padding=1, stride=1), # (N, 1, 28, 28)\n",
        "                nn.ReLU(),\n",
        "                # After the first convolutional layer the output of this layer is:\n",
        "                # [(28 + 2*1 - 3)/1] + 1 = 28.\n",
        "                nn.MaxPool2d(kernel_size=2),\n",
        "                # Since we applied maxpooling with kernel_size=2 we have to divide by 2, so we get\n",
        "                # 28 / 2 = 14\n",
        "\n",
        "                # output of our second conv layer\n",
        "                nn.Conv2d(in_channels=12, out_channels=24, kernel_size=3, padding=1, stride=1),\n",
        "                nn.ReLU(),\n",
        "                # After the second convolutional layer the output of this layer is:\n",
        "                # [(14 + 2*1 - 3)/1] + 1 = 14.\n",
        "                nn.MaxPool2d(kernel_size=2)\n",
        "                # Since we applied maxpooling with kernel_size=2 we have to divide by 2, so we get\n",
        "                # 14 / 2 = 7\n",
        "        )\n",
        "\n",
        "        # Linear layer\n",
        "        self.linear_layers = nn.Sequential(\n",
        "                # We have the output_channel=24 of our second conv layer, and 7*7 is derived by the formular\n",
        "                # which is the output of each convolutional layer\n",
        "                nn.Linear(in_features=24*7*7, out_features=64),\n",
        "                nn.ReLU(),\n",
        "                nn.Dropout(p=0.2), # Dropout with probability of 0.2 to avoid overfitting\n",
        "                nn.Linear(in_features=64, out_features=10) # The output is 10 which should match the size of our class\n",
        "        )\n",
        "\n",
        "    # Defining the forward pass\n",
        "    def forward(self, x):\n",
        "        x = self.convolutaional_neural_network_layers(x)\n",
        "        # After we get the output of our convolutional layer we must flatten it or rearrange the output into a vector\n",
        "        x = x.view(x.size(0), -1)\n",
        "        # Then pass it through the linear layer\n",
        "        x = self.linear_layers(x)\n",
        "        # The softmax function returns the prob likelihood of getting the input image.\n",
        "        # We will see a much graphical demonstration below\n",
        "        x = F.log_softmax(x, dim=1)\n",
        "        return x"
      ]
    },
    {
      "cell_type": "code",
      "execution_count": null,
      "metadata": {
        "id": "JJ0BRxidbVLW"
      },
      "outputs": [],
      "source": [
        "device = (\"cuda\" if torch.cuda.is_available() else \"cpu\")"
      ]
    },
    {
      "cell_type": "code",
      "execution_count": null,
      "metadata": {
        "colab": {
          "base_uri": "https://localhost:8080/"
        },
        "id": "DswZgaMuC0IT",
        "outputId": "0c126eb9-4d94-4f3f-f311-3c31696c2a2a"
      },
      "outputs": [
        {
          "output_type": "execute_result",
          "data": {
            "text/plain": [
              "True"
            ]
          },
          "metadata": {},
          "execution_count": 6
        }
      ],
      "source": [
        "torch.cuda.is_available()"
      ]
    },
    {
      "cell_type": "code",
      "execution_count": null,
      "metadata": {
        "colab": {
          "base_uri": "https://localhost:8080/"
        },
        "id": "AWtj3Xylag3g",
        "outputId": "50e661b4-cbcb-4e0d-81cc-05d3a33a9a17"
      },
      "outputs": [
        {
          "output_type": "execute_result",
          "data": {
            "text/plain": [
              "Network(\n",
              "  (convolutaional_neural_network_layers): Sequential(\n",
              "    (0): Conv2d(1, 12, kernel_size=(3, 3), stride=(1, 1), padding=(1, 1))\n",
              "    (1): ReLU()\n",
              "    (2): MaxPool2d(kernel_size=2, stride=2, padding=0, dilation=1, ceil_mode=False)\n",
              "    (3): Conv2d(12, 24, kernel_size=(3, 3), stride=(1, 1), padding=(1, 1))\n",
              "    (4): ReLU()\n",
              "    (5): MaxPool2d(kernel_size=2, stride=2, padding=0, dilation=1, ceil_mode=False)\n",
              "  )\n",
              "  (linear_layers): Sequential(\n",
              "    (0): Linear(in_features=1176, out_features=64, bias=True)\n",
              "    (1): ReLU()\n",
              "    (2): Dropout(p=0.2, inplace=False)\n",
              "    (3): Linear(in_features=64, out_features=10, bias=True)\n",
              "  )\n",
              ")"
            ]
          },
          "metadata": {},
          "execution_count": 6
        }
      ],
      "source": [
        "# load the model\n",
        "model_path = \"/content/drive/MyDrive/paper_data/cnn_mnist.pth\"\n",
        "model = Network()\n",
        "model.to(device)\n",
        "model.load_state_dict(torch.load(model_path))\n",
        "model.eval()"
      ]
    },
    {
      "cell_type": "code",
      "execution_count": null,
      "metadata": {
        "id": "orbVTuLoajIl"
      },
      "outputs": [],
      "source": [
        "# resize and take the center part of image to what our model expects\n",
        "def get_input_transform():\n",
        "    transform = transforms.Compose([\n",
        "                                transforms.ToTensor(),\n",
        "                                transforms.Normalize((0.1307,), (0.3081,))\n",
        "                                ])\n",
        "    return transform\n",
        "\n",
        "def get_input_tensors(img):\n",
        "\n",
        "    # img = torch.from_numpy(img)\n",
        "    # img = img.to(device)\n",
        "    transf = get_input_transform()\n",
        "    img = transf(img)\n",
        "    img = img.detach().cpu().numpy()\n",
        "    return img"
      ]
    },
    {
      "cell_type": "code",
      "execution_count": null,
      "metadata": {
        "id": "BN9fpiiMalCM",
        "colab": {
          "base_uri": "https://localhost:8080/"
        },
        "outputId": "c441bc6c-a1df-47eb-d9d0-b6a2d2fda41e"
      },
      "outputs": [
        {
          "output_type": "stream",
          "name": "stdout",
          "text": [
            "Downloading http://yann.lecun.com/exdb/mnist/train-images-idx3-ubyte.gz\n",
            "Failed to download (trying next):\n",
            "HTTP Error 403: Forbidden\n",
            "\n",
            "Downloading https://ossci-datasets.s3.amazonaws.com/mnist/train-images-idx3-ubyte.gz\n",
            "Downloading https://ossci-datasets.s3.amazonaws.com/mnist/train-images-idx3-ubyte.gz to DATA_MNIST/MNIST/raw/train-images-idx3-ubyte.gz\n"
          ]
        },
        {
          "output_type": "stream",
          "name": "stderr",
          "text": [
            "100%|██████████| 9912422/9912422 [00:01<00:00, 5069871.11it/s]\n"
          ]
        },
        {
          "output_type": "stream",
          "name": "stdout",
          "text": [
            "Extracting DATA_MNIST/MNIST/raw/train-images-idx3-ubyte.gz to DATA_MNIST/MNIST/raw\n",
            "\n",
            "Downloading http://yann.lecun.com/exdb/mnist/train-labels-idx1-ubyte.gz\n",
            "Failed to download (trying next):\n",
            "HTTP Error 403: Forbidden\n",
            "\n",
            "Downloading https://ossci-datasets.s3.amazonaws.com/mnist/train-labels-idx1-ubyte.gz\n",
            "Downloading https://ossci-datasets.s3.amazonaws.com/mnist/train-labels-idx1-ubyte.gz to DATA_MNIST/MNIST/raw/train-labels-idx1-ubyte.gz\n"
          ]
        },
        {
          "output_type": "stream",
          "name": "stderr",
          "text": [
            "100%|██████████| 28881/28881 [00:00<00:00, 134771.47it/s]\n"
          ]
        },
        {
          "output_type": "stream",
          "name": "stdout",
          "text": [
            "Extracting DATA_MNIST/MNIST/raw/train-labels-idx1-ubyte.gz to DATA_MNIST/MNIST/raw\n",
            "\n",
            "Downloading http://yann.lecun.com/exdb/mnist/t10k-images-idx3-ubyte.gz\n",
            "Failed to download (trying next):\n",
            "HTTP Error 403: Forbidden\n",
            "\n",
            "Downloading https://ossci-datasets.s3.amazonaws.com/mnist/t10k-images-idx3-ubyte.gz\n",
            "Downloading https://ossci-datasets.s3.amazonaws.com/mnist/t10k-images-idx3-ubyte.gz to DATA_MNIST/MNIST/raw/t10k-images-idx3-ubyte.gz\n"
          ]
        },
        {
          "output_type": "stream",
          "name": "stderr",
          "text": [
            "100%|██████████| 1648877/1648877 [00:01<00:00, 1269289.73it/s]\n"
          ]
        },
        {
          "output_type": "stream",
          "name": "stdout",
          "text": [
            "Extracting DATA_MNIST/MNIST/raw/t10k-images-idx3-ubyte.gz to DATA_MNIST/MNIST/raw\n",
            "\n",
            "Downloading http://yann.lecun.com/exdb/mnist/t10k-labels-idx1-ubyte.gz\n",
            "Failed to download (trying next):\n",
            "HTTP Error 403: Forbidden\n",
            "\n",
            "Downloading https://ossci-datasets.s3.amazonaws.com/mnist/t10k-labels-idx1-ubyte.gz\n",
            "Downloading https://ossci-datasets.s3.amazonaws.com/mnist/t10k-labels-idx1-ubyte.gz to DATA_MNIST/MNIST/raw/t10k-labels-idx1-ubyte.gz\n"
          ]
        },
        {
          "output_type": "stream",
          "name": "stderr",
          "text": [
            "100%|██████████| 4542/4542 [00:00<00:00, 8659331.26it/s]"
          ]
        },
        {
          "output_type": "stream",
          "name": "stdout",
          "text": [
            "Extracting DATA_MNIST/MNIST/raw/t10k-labels-idx1-ubyte.gz to DATA_MNIST/MNIST/raw\n",
            "\n"
          ]
        },
        {
          "output_type": "stream",
          "name": "stderr",
          "text": [
            "\n"
          ]
        }
      ],
      "source": [
        "# Define transform to normalize data\n",
        "transform = transforms.Compose([\n",
        "                                transforms.ToTensor(),\n",
        "                                transforms.Normalize((0.1307,), (0.3081,))\n",
        "                                ])\n",
        "\n",
        "# Download and load the training data\n",
        "train_set = datasets.MNIST('DATA_MNIST/', download=True, train=True, transform=transform)\n",
        "trainloader = torch.utils.data.DataLoader(train_set, batch_size=60000, shuffle=True)\n",
        "\n",
        "test_set = datasets.MNIST('DATA_MNIST/', download=True, train=False, transform=transform)\n",
        "testloader = torch.utils.data.DataLoader(test_set, batch_size=10000, shuffle=True)"
      ]
    },
    {
      "cell_type": "code",
      "execution_count": null,
      "metadata": {
        "colab": {
          "base_uri": "https://localhost:8080/"
        },
        "id": "wrXpX2mvanIR",
        "outputId": "e7170e3f-fa50-4d89-cabb-72b4594b1e85"
      },
      "outputs": [
        {
          "output_type": "stream",
          "name": "stdout",
          "text": [
            "<class 'torch.Tensor'>\n",
            "torch.Size([60000, 1, 28, 28])\n",
            "torch.Size([60000])\n"
          ]
        }
      ],
      "source": [
        "train_data = enumerate(trainloader)\n",
        "_, (images, labels) = next(train_data)\n",
        "\n",
        "# dataiter = iter(testloader)\n",
        "# images, labels = dataiter.next()\n",
        "print(type(images)) # Checking the datatype\n",
        "print(images.shape) # the size of the image\n",
        "print(labels.shape) # the size of the labels"
      ]
    },
    {
      "cell_type": "code",
      "execution_count": null,
      "metadata": {
        "colab": {
          "base_uri": "https://localhost:8080/"
        },
        "id": "nive0h0MapNK",
        "outputId": "23a0b0aa-154c-4cde-dba2-d6a47ad01a40"
      },
      "outputs": [
        {
          "output_type": "execute_result",
          "data": {
            "text/plain": [
              "(60000, 28, 28)"
            ]
          },
          "metadata": {},
          "execution_count": 10
        }
      ],
      "source": [
        "images_train = Tensor.cpu(images)\n",
        "labels_train = Tensor.cpu(labels)\n",
        "\n",
        "images_train = images_train.numpy().reshape((-1, 784))\n",
        "labels_train = labels_train.numpy()\n",
        "\n",
        "X_vec_train = np.stack([iimg for iimg in images_train.reshape((-1, 28, 28))],0)\n",
        "y_vec_train = labels_train.astype(np.uint8)\n",
        "\n",
        "X_vec_train.shape"
      ]
    },
    {
      "cell_type": "code",
      "execution_count": null,
      "metadata": {
        "colab": {
          "base_uri": "https://localhost:8080/"
        },
        "id": "T3BP3IaHaqGL",
        "outputId": "60086813-472a-4c33-f89b-075ed2a343d8"
      },
      "outputs": [
        {
          "output_type": "stream",
          "name": "stdout",
          "text": [
            "<class 'torch.Tensor'>\n",
            "torch.Size([10000, 1, 28, 28])\n",
            "torch.Size([10000])\n"
          ]
        },
        {
          "output_type": "execute_result",
          "data": {
            "text/plain": [
              "(10000, 28, 28)"
            ]
          },
          "metadata": {},
          "execution_count": 11
        }
      ],
      "source": [
        "test_data = enumerate(testloader)\n",
        "_, (images, labels) = next(test_data)\n",
        "print(type(images)) # Checking the datatype\n",
        "print(images.shape) # the size of the image\n",
        "print(labels.shape) # the size of the labels\n",
        "\n",
        "images_test = Tensor.cpu(images)\n",
        "labels_test = Tensor.cpu(labels)\n",
        "\n",
        "images_test = images_test.numpy().reshape((-1, 784))\n",
        "labels_test = labels_test.numpy()\n",
        "\n",
        "X_vec_test = np.stack([iimg for iimg in images_test.reshape((-1, 28, 28))],0)\n",
        "y_vec_test = labels_test.astype(np.uint8)\n",
        "\n",
        "X_vec_test.shape"
      ]
    },
    {
      "cell_type": "code",
      "execution_count": null,
      "metadata": {
        "id": "m5ww4sfzaqC6"
      },
      "outputs": [],
      "source": [
        "# dataiter = iter(testloader)\n",
        "# X_vec_test, y_vec_test = dataiter.next()"
      ]
    },
    {
      "cell_type": "code",
      "execution_count": null,
      "metadata": {
        "id": "QqCp7Hpgap_z"
      },
      "outputs": [],
      "source": []
    },
    {
      "cell_type": "code",
      "execution_count": null,
      "metadata": {
        "id": "RDZMp9OqQJMs"
      },
      "outputs": [],
      "source": []
    },
    {
      "cell_type": "code",
      "execution_count": null,
      "metadata": {
        "id": "CZLaNGyMGx25"
      },
      "outputs": [],
      "source": [
        "def extract_feats(imgs):\n",
        "    imgs = imgs.astype(np.float32)\n",
        "    tensor_vec = np.reshape(imgs, (1, 1, 28, 28))\n",
        "    # tensor_vec = np.stack([rgb2gray(iimg).reshape((1, 28, 28)) for iimg in imgs], 0) # (-1, 28, 28, 3) -> (-1, 1, 28, 28)\n",
        "    images = torch.from_numpy(tensor_vec)\n",
        "    images = images.to(device)\n",
        "    # model.eval()\n",
        "    logits = model(images)\n",
        "    features = logits.cpu().detach().numpy()\n",
        "    return features"
      ]
    },
    {
      "cell_type": "code",
      "execution_count": null,
      "metadata": {
        "id": "gv1U9NDjatbV"
      },
      "outputs": [],
      "source": [
        "# model function for prediction\n",
        "def batch_predict(imgs):\n",
        "    imgs = imgs.astype(np.float32)\n",
        "    tensor_vec = np.reshape(imgs, (1, 1, 28, 28))\n",
        "    # tensor_vec = np.stack([rgb2gray(iimg).reshape((1, 28, 28)) for iimg in imgs], 0) # (-1, 28, 28, 3) -> (-1, 1, 28, 28)\n",
        "    images = torch.from_numpy(tensor_vec)\n",
        "    images = images.to(device)\n",
        "    model.eval()\n",
        "    logits = model(images)\n",
        "    # print('log',logits)\n",
        "    # print('im',images)\n",
        "    probs = F.softmax(logits, dim=1)\n",
        "    # print('prob',probs)\n",
        "    test_preds = probs.detach().cpu().numpy()\n",
        "    # print('pred',test_preds)\n",
        "    return test_preds[0]"
      ]
    },
    {
      "cell_type": "code",
      "execution_count": null,
      "metadata": {
        "id": "EnhljGTcOE7f"
      },
      "outputs": [],
      "source": [
        "feature_labels = [f'f {i}' for i in range(784)]"
      ]
    },
    {
      "cell_type": "code",
      "execution_count": null,
      "metadata": {
        "id": "Pj41SQpXODnK"
      },
      "outputs": [],
      "source": [
        "problem = {\n",
        "  'num_vars': 784,\n",
        "  'names': feature_labels,\n",
        "  'bounds': [[-0.42421296, 2.8214867]]*784 #standard scaled, bounds are within min and max pixel values of train images\n",
        "}"
      ]
    },
    {
      "cell_type": "code",
      "execution_count": null,
      "metadata": {
        "id": "lCUQsz8gcNm8"
      },
      "outputs": [],
      "source": [
        "## 1- Morris\n",
        "from SALib.analyze import morris\n",
        "X = sample(problem, N=50, num_levels=4, optimal_trajectories=None)"
      ]
    },
    {
      "cell_type": "code",
      "execution_count": null,
      "metadata": {
        "colab": {
          "base_uri": "https://localhost:8080/"
        },
        "id": "Uvs0_NYKcOxv",
        "outputId": "9be7846f-8755-449a-f7af-d79bc004f4bb"
      },
      "outputs": [
        {
          "data": {
            "text/plain": [
              "(39250, 784)"
            ]
          },
          "execution_count": 28,
          "metadata": {
            "tags": []
          },
          "output_type": "execute_result"
        }
      ],
      "source": [
        "X.shape"
      ]
    },
    {
      "cell_type": "code",
      "execution_count": null,
      "metadata": {
        "id": "VHqyIybCkC6H"
      },
      "outputs": [],
      "source": [
        "# evaluation of the samples generated by Morris sampling\n",
        "X_img = X.reshape((-1,28,28))\n",
        "pred_list = []\n",
        "for img in X_img:\n",
        "    pred_list.append(batch_predict(img))# model function for prediction\n",
        "pred_list = np.asarray(pred_list)\n",
        "model_predict_test = np.argmax(pred_list,axis = 1)\n",
        "# print(model_predict_test)"
      ]
    },
    {
      "cell_type": "code",
      "execution_count": null,
      "metadata": {
        "id": "MZZ7l73hP7x_"
      },
      "outputs": [],
      "source": [
        "Y = model_predict_test\n",
        "Y = np.float64(Y)\n",
        "Y = np.nan_to_num(Y).flatten()\n",
        "from SALib.sample.morris import sample\n",
        "\n",
        "\n",
        "si_morris = morris.analyze(problem, X, Y, conf_level=0.95,\n",
        "                    print_to_console=False,\n",
        "                    num_levels=4, num_resamples=100)"
      ]
    },
    {
      "cell_type": "code",
      "execution_count": null,
      "metadata": {
        "colab": {
          "base_uri": "https://localhost:8080/"
        },
        "id": "Ndoi4K0Z0FrZ",
        "outputId": "b6026748-ff09-4210-ac15-2a2c3d4956bd"
      },
      "outputs": [
        {
          "output_type": "execute_result",
          "data": {
            "text/plain": [
              "dict_keys(['names', 'mu', 'mu_star', 'sigma', 'mu_star_conf'])"
            ]
          },
          "metadata": {},
          "execution_count": 91
        }
      ],
      "source": [
        "si_morris.keys()"
      ]
    },
    {
      "cell_type": "code",
      "execution_count": null,
      "metadata": {
        "id": "og3WK-EFcRYf"
      },
      "outputs": [],
      "source": [
        "mustar_ind = si_morris['mu_star'].reshape((28,28))\n",
        "mustarconf_ind = si_morris['mu_star_conf'].reshape((28,28))\n",
        "sigma_ind = si_morris['sigma'].reshape((28,28))\n",
        "mu_ind = si_morris['mu'].reshape((28,28))"
      ]
    },
    {
      "cell_type": "code",
      "source": [
        "with open(\"/content/drive/MyDrive/paper_data/ccr/mnist_morris_index1.pkl\", 'wb') as handle:\n",
        "    pickle.dump(mustar_ind, handle, protocol=pickle.HIGHEST_PROTOCOL)\n",
        "with open(\"/content/drive/MyDrive/paper_data/ccr/mnist_morris_index2.pkl\", 'wb') as handle:\n",
        "    pickle.dump(sigma_ind, handle, protocol=pickle.HIGHEST_PROTOCOL)\n",
        "with open(\"/content/drive/MyDrive/paper_data/ccr/mnist_morris_index3.pkl\", 'wb') as handle:\n",
        "    pickle.dump(mu_ind, handle, protocol=pickle.HIGHEST_PROTOCOL)"
      ],
      "metadata": {
        "id": "tf-mK7l2dCmp"
      },
      "execution_count": null,
      "outputs": []
    },
    {
      "cell_type": "code",
      "source": [],
      "metadata": {
        "id": "O0Q-3KUhde8P"
      },
      "execution_count": null,
      "outputs": []
    },
    {
      "cell_type": "markdown",
      "source": [],
      "metadata": {
        "id": "z3VdZsTAdbtT"
      }
    },
    {
      "cell_type": "code",
      "execution_count": null,
      "metadata": {
        "colab": {
          "base_uri": "https://localhost:8080/",
          "height": 242
        },
        "id": "frKfRgmvSM2S",
        "outputId": "0f09afcf-b872-4ab0-fdf9-8525c5c1cfec"
      },
      "outputs": [
        {
          "output_type": "display_data",
          "data": {
            "text/plain": [
              "<Figure size 800x800 with 4 Axes>"
            ],
            "image/png": "[encoded data removed]"
          },
          "metadata": {}
        }
      ],
      "source": [
        "fig,ax = plt.subplots(1,3,figsize=(8,8))\n",
        "ax[0].imshow(mustar_ind)\n",
        "ax[0].set_title('mustar')\n",
        "ax[0].get_xaxis().set_ticks([])\n",
        "ax[0].get_yaxis().set_ticks([])\n",
        "# ax[1].imshow(mustarconf_ind)\n",
        "# ax[1].set_title('mustarconf')\n",
        "# ax[1].get_xaxis().set_ticks([])\n",
        "# ax[1].get_yaxis().set_ticks([])\n",
        "ax[1].imshow(sigma_ind)\n",
        "ax[1].set_title('sigma')\n",
        "ax[1].get_xaxis().set_ticks([])\n",
        "ax[1].get_yaxis().set_ticks([])\n",
        "a2 = ax[2].imshow(mu_ind)\n",
        "ax[2].set_title('mu')\n",
        "ax[2].get_xaxis().set_ticks([])\n",
        "ax[2].get_yaxis().set_ticks([])\n",
        "\n",
        "cbar_ax = fig.add_axes([0.95, 0.38, 0.05, 0.25])\n",
        "fig.colorbar(a2, cax=cbar_ax)\n",
        "\n",
        "file_name = '/content/drive/MyDrive/paper_data/ccr/mnist_SA_morris_sal'\n",
        "fig.savefig(file_name,\n",
        "            bbox_inches='tight',\n",
        "            pad_inches=0.1,\n",
        "            dpi=200,\n",
        "            format='png')"
      ]
    },
    {
      "cell_type": "code",
      "execution_count": null,
      "metadata": {
        "id": "D2t1T1Un2Z49"
      },
      "outputs": [],
      "source": [
        "def sort_Si(Si, key, sortby):\n",
        "    # vals = np.array([Si[key][x] for x in np.argsort(-Si[sortby])]) #descendlingly\n",
        "    vals = np.array([Si[key][x] for x in np.argsort(Si[sortby])])  #ascendingly\n",
        "    inds = np.argsort(Si[sortby])\n",
        "    return vals,inds"
      ]
    },
    {
      "cell_type": "code",
      "execution_count": null,
      "metadata": {
        "id": "fZPWt8N5v4-v"
      },
      "outputs": [],
      "source": [
        "names_sorted = sort_Si(si_morris, 'names', sortby='mu_star')\n",
        "mu_star_sorted, mu_star_sorted_ind = sort_Si(si_morris, 'mu_star', sortby='mu_star')\n",
        "sigma_sorted, sigma_sorted_ind = sort_Si(si_morris, 'sigma', sortby='sigma')\n",
        "mu_star_conf_sorted, mu_star_conf_sorted_ind = sort_Si(si_morris, 'mu_star_conf', sortby='mu_star_conf')\n",
        "mu_sorted,mu_sorted_ind = sort_Si(si_morris, 'mu', sortby='mu')\n"
      ]
    },
    {
      "cell_type": "code",
      "execution_count": null,
      "metadata": {
        "colab": {
          "base_uri": "https://localhost:8080/"
        },
        "id": "mNLyMFn5zS-W",
        "outputId": "0e5fbbcb-60bd-411b-a14d-72a8c0806fe2"
      },
      "outputs": [
        {
          "name": "stdout",
          "output_type": "stream",
          "text": [
            "[0.715 0.78  0.845 0.865 0.885]\n",
            "[2.79325663 2.90698616 3.02721353 3.0346618  3.10845352]\n"
          ]
        }
      ],
      "source": [
        "# sorted ascendingly\n",
        "print(mu_star_sorted[-5:])\n",
        "print(sigma_sorted[-5:])"
      ]
    },
    {
      "cell_type": "code",
      "execution_count": null,
      "metadata": {
        "id": "yH-PUqduS1cz"
      },
      "outputs": [],
      "source": [
        "images_test = images_test.reshape((-1, 784))\n",
        "labels_test = labels_test"
      ]
    },
    {
      "cell_type": "code",
      "execution_count": null,
      "metadata": {
        "id": "Wts29d7hSgBs"
      },
      "outputs": [],
      "source": [
        "def eval_sample(x_test, x_dl, target):\n",
        "    pred_test = batch_predict(x_test)\n",
        "    pred_dl = batch_predict(x_dl)\n",
        "    diff = -1; success =0\n",
        "    class_test = np.argmax(pred_test)\n",
        "    class_dl = np.argmax(pred_dl)\n",
        "    if class_dl == target:\n",
        "        diff = np.max(pred_dl) - np.max(pred_test)\n",
        "        success = 1\n",
        "        # print(f\"diff is {diff}\")\n",
        "        # print(f\"successful\")\n",
        "    else:\n",
        "        # print(f\"Error in classification for target {target}\")\n",
        "        success = 0\n",
        "    return diff, success, pred_test, pred_dl, class_dl"
      ]
    },
    {
      "cell_type": "code",
      "execution_count": null,
      "metadata": {
        "colab": {
          "base_uri": "https://localhost:8080/"
        },
        "id": "D2pXGa2fEEC5",
        "outputId": "c5ccb2c0-4315-42d5-919b-e440edc791d0"
      },
      "outputs": [
        {
          "output_type": "stream",
          "name": "stdout",
          "text": [
            "84\n",
            "184\n",
            "284\n",
            "384\n",
            "484\n",
            "584\n",
            "684\n",
            "784\n"
          ]
        }
      ],
      "source": [
        "    imp_thresh = [784,684,584,484,384,284,184,84]\n",
        "    for imp_th in imp_thresh[::-1]:\n",
        "        print(imp_th)"
      ]
    },
    {
      "cell_type": "code",
      "execution_count": null,
      "metadata": {
        "id": "JjcVipNDXgKL"
      },
      "outputs": [],
      "source": [
        "#measures the effect of sorted portion of each factor (for examples mu, mu-star, sigma) based on accuracy of classification\n",
        "def measurement(factor):\n",
        "\n",
        "    ccr_imp = [] ;  ccr_imp_inv = []\n",
        "\n",
        "\n",
        "    num_class = 10\n",
        "    # prec_rec_dict = {i:[] for i in range(num_class)}\n",
        "\n",
        "    # imp_thresh = [784,684,584,484,384,284,184,84]\n",
        "    imp_thresh = [84,184,284,384,484,584,684,784]\n",
        "    # for imp_th in imp_thresh[::-1]:\n",
        "    for imp_th in imp_thresh:\n",
        "        probs_X = {i:[] for i in range(0,9)}\n",
        "        probs_Xf = {i:[] for i in range(0,9)}\n",
        "\n",
        "        probs_X_inv = {i:[] for i in range(0,9)}\n",
        "        probs_Xf_inv = {i:[] for i in range(0,9)}\n",
        "\n",
        "        all_classes_true = []\n",
        "        all_classes_pred = []; all_classes_pred_inv = []\n",
        "\n",
        "        for ind in range(num_class):\n",
        "            # print('------class number------',ind)\n",
        "\n",
        "            indices = np.where(y_vec_test==ind)[0]\n",
        "\n",
        "            images_class = images_test[indices]\n",
        "            # images_class_mask = X_vec_test_mask[indices]\n",
        "\n",
        "            images_class_labels = labels_test[indices]\n",
        "\n",
        "            num_imgs = len(images_class)\n",
        "            # print('num_imgs',num_imgs)\n",
        "\n",
        "            probs_X[ind] = np.zeros((num_imgs, num_class))\n",
        "            probs_X_inv[ind] = np.zeros((num_imgs, num_class))\n",
        "\n",
        "            probs_Xf[ind] = np.zeros((num_imgs, num_class))\n",
        "            probs_Xf_inv[ind] = np.zeros((num_imgs, num_class))\n",
        "\n",
        "            class_predictions = [] ;  class_predictions_inv = []\n",
        "\n",
        "\n",
        "            class_true = [ind for _ in range(num_imgs)]\n",
        "            success_list = [] ;  success_list_inv = []\n",
        "\n",
        "\n",
        "            for i, input in enumerate(images_class):\n",
        "                    # print('img number',i)\n",
        "                    input_imp = np.zeros(input.shape)\n",
        "                    input_imp_inv = np.zeros(input.shape)\n",
        "\n",
        "                    # input_imp[indlist]=input[indlist]\n",
        "                    # input_imp[mu_star_sorted_ind[-imp_th:]] = input[mu_star_sorted_ind[-imp_th:]]\n",
        "                    input_imp[factor[-imp_th:]] = input[factor[-imp_th:]] #influential factors\n",
        "                    input_imp_inv[factor[0:imp_th]] = input[factor[0:imp_th]] #non-influential factors\n",
        "\n",
        "                    lbl = images_class_labels[i]\n",
        "\n",
        "                    _, success, pred_X, pred_Xf, class_Xf = eval_sample(input.reshape((1,28,28)), input_imp.reshape((1,28,28)), lbl)\n",
        "\n",
        "                    _, success_inv, pred_X_inv, pred_Xf_inv, class_Xf_inv = eval_sample(input.reshape((1,28,28)), input_imp_inv.reshape((1,28,28)), lbl)\n",
        "\n",
        "                    success_list.append(success)\n",
        "                    success_list_inv.append(success_inv)\n",
        "\n",
        "                    probs_X[ind][i, :] = pred_X\n",
        "                    probs_X_inv[ind][i, :] = pred_X_inv\n",
        "\n",
        "                    probs_Xf[ind][i, :] = pred_Xf\n",
        "                    probs_Xf_inv[ind][i, :] = pred_Xf_inv\n",
        "\n",
        "\n",
        "                    class_predictions.append(class_Xf)\n",
        "                    class_predictions_inv.append(class_Xf_inv)\n",
        "\n",
        "\n",
        "\n",
        "            # print('class pred',class_predictions)\n",
        "            # print('class true',class_true)\n",
        "\n",
        "            all_classes_true = all_classes_true + class_true\n",
        "\n",
        "            all_classes_pred = all_classes_pred + class_predictions\n",
        "            all_classes_pred_inv = all_classes_pred_inv + class_predictions_inv\n",
        "\n",
        "            # print(f'number of successful classifications : {np.sum(success_list)}')\n",
        "\n",
        "        confusions = confusion_matrix(all_classes_true, all_classes_pred)\n",
        "        confusions_inv = confusion_matrix(all_classes_true, all_classes_pred_inv)\n",
        "\n",
        "        confusions_norm = np.zeros((confusions.shape[0], confusions.shape[1]))\n",
        "        confusions_norm_inv = np.zeros((confusions_inv.shape[0], confusions_inv.shape[1]))\n",
        "\n",
        "        for i in range(confusions.shape[0]):\n",
        "            confusions_norm[i, :] = confusions[i, :] / np.sum(confusions[i, :])\n",
        "        ccr_imp.append(np.sum(np.diagonal(confusions_norm))/10)\n",
        "\n",
        "\n",
        "        for i in range(confusions_inv.shape[0]):\n",
        "            confusions_norm_inv[i, :] = confusions_inv[i, :] / np.sum(confusions_inv[i, :])\n",
        "        ccr_imp_inv.append(np.sum(np.diagonal(confusions_norm_inv))/10)\n",
        "\n",
        "    # fig = plt.figure()\n",
        "    # ax = fig.add_axes([0,0,1,1])\n",
        "    # imp_dims = [str(imp) for imp in imp_thresh]\n",
        "    # ax.bar(imp_dims,ccr_imp)\n",
        "    # plt.show()\n",
        "    # print(ccr_imp)\n",
        "    return(ccr_imp,ccr_imp_inv)"
      ]
    },
    {
      "cell_type": "code",
      "execution_count": null,
      "metadata": {
        "colab": {
          "base_uri": "https://localhost:8080/"
        },
        "id": "lj95wQYk-Bp0",
        "outputId": "e8c31346-ce91-4279-8b8d-249a168fb64d"
      },
      "outputs": [
        {
          "output_type": "execute_result",
          "data": {
            "text/plain": [
              "[84, 184, 284, 384, 484, 584, 684, 784]"
            ]
          },
          "metadata": {},
          "execution_count": 7
        }
      ],
      "source": [
        "imp_thresh = [784,684,584,484,384,284,184,84]\n",
        "imp_thresh[::-1]"
      ]
    },
    {
      "cell_type": "code",
      "execution_count": null,
      "metadata": {
        "colab": {
          "base_uri": "https://localhost:8080/"
        },
        "id": "1POOEjsiH77z",
        "outputId": "20f77606-4986-4c92-80f0-eb651b2146e2"
      },
      "outputs": [
        {
          "data": {
            "text/plain": [
              "(60000, 784)"
            ]
          },
          "execution_count": 30,
          "metadata": {
            "tags": []
          },
          "output_type": "execute_result"
        }
      ],
      "source": [
        "images_train.shape"
      ]
    },
    {
      "cell_type": "code",
      "execution_count": null,
      "metadata": {
        "colab": {
          "base_uri": "https://localhost:8080/"
        },
        "id": "gUL6ZOM9IGpb",
        "outputId": "5754babe-6c5d-45a2-8042-2d5ff92a3168"
      },
      "outputs": [
        {
          "data": {
            "text/plain": [
              "(60000, 28, 28)"
            ]
          },
          "execution_count": 43,
          "metadata": {
            "tags": []
          },
          "output_type": "execute_result"
        }
      ],
      "source": [
        "X_img = images_train.reshape((-1,28,28))\n",
        "X_img.shape"
      ]
    },
    {
      "cell_type": "code",
      "execution_count": null,
      "metadata": {
        "colab": {
          "base_uri": "https://localhost:8080/"
        },
        "id": "0yZVX-9DIVg-",
        "outputId": "dbcf43f4-cbf5-439e-f688-3076f4f7b2ad"
      },
      "outputs": [
        {
          "data": {
            "text/plain": [
              "(10,)"
            ]
          },
          "execution_count": 44,
          "metadata": {
            "tags": []
          },
          "output_type": "execute_result"
        }
      ],
      "source": [
        "ef = extract_feats(X_img[0])\n",
        "ef.reshape(-1).shape"
      ]
    },
    {
      "cell_type": "code",
      "execution_count": null,
      "metadata": {
        "id": "4MQhC7sXH7xo"
      },
      "outputs": [],
      "source": [
        "X_img = images_train.reshape((-1,28,28))\n",
        "feat_list = []\n",
        "for img in X_img:\n",
        "    feat_list.append(extract_feats(img).reshape(-1))# model function for prediction\n",
        "feat_list = np.asarray(feat_list)"
      ]
    },
    {
      "cell_type": "code",
      "execution_count": null,
      "metadata": {
        "id": "_UeRzAEHJRY5"
      },
      "outputs": [],
      "source": [
        "ccr_mu_star,ccr_mu_star_inv = measurement(mu_star_sorted_ind)\n",
        "# ccr_mu_star_inv = measurement_inverse(mu_star_sorted_ind)\n",
        "\n",
        "with open(\"/content/drive/MyDrive/paper_data/ccr/morris_ccr_mu_star.pkl\", 'wb') as handle:\n",
        "    pickle.dump(ccr_mu_star, handle, protocol=pickle.HIGHEST_PROTOCOL)\n",
        "\n",
        "with open(\"/content/drive/MyDrive/paper_data/ccr/morris_ccr_mu_star_inv.pkl\", 'wb') as handle:\n",
        "    pickle.dump(ccr_mu_star_inv, handle, protocol=pickle.HIGHEST_PROTOCOL)"
      ]
    },
    {
      "cell_type": "code",
      "execution_count": null,
      "metadata": {
        "id": "AE7ur_4OBpeG"
      },
      "outputs": [],
      "source": [
        "ccr_sigma,ccr_sigma_inv = measurement(sigma_sorted_ind)\n",
        "# ccr_sigma_inv = measurement_inverse(sigma_sorted_ind)\n",
        "\n",
        "with open(\"/content/drive/MyDrive/paper_data/ccr/morris_ccr_sigma.pkl\", 'wb') as handle:\n",
        "    pickle.dump(ccr_sigma, handle, protocol=pickle.HIGHEST_PROTOCOL)\n",
        "with open(\"/content/drive/MyDrive/paper_data/ccr/morris_ccr_sigma_inv.pkl\", 'wb') as handle:\n",
        "    pickle.dump(ccr_sigma_inv, handle, protocol=pickle.HIGHEST_PROTOCOL)"
      ]
    },
    {
      "cell_type": "code",
      "execution_count": null,
      "metadata": {
        "colab": {
          "base_uri": "https://localhost:8080/",
          "height": 374
        },
        "id": "0TH_cNdpcnzQ",
        "outputId": "6ab53657-81a8-4cda-c715-e3dbea76d53b"
      },
      "outputs": [
        {
          "data": {
            "image/png": "[encoded data removed]",
            "text/plain": [
              "<Figure size 432x288 with 1 Axes>"
            ]
          },
          "metadata": {
            "tags": []
          },
          "output_type": "display_data"
        },
        {
          "name": "stdout",
          "output_type": "stream",
          "text": [
            "[0.9833274911194556, 0.9834330577794616, 0.9833843162327136, 0.9829967227188577, 0.9808585717165392, 0.9773578000593515, 0.9654346489397383, 0.9275296993840051]\n"
          ]
        }
      ],
      "source": [
        "# ccr_conf = measurement(mu_star_conf_sorted_ind)\n",
        "# with open(\"/content/drive/MyDrive/paper_data/morris_ccr_conf.pkl\", 'wb') as handle:\n",
        "#     pickle.dump(ccr_conf, handle, protocol=pickle.HIGHEST_PROTOCOL)"
      ]
    },
    {
      "cell_type": "code",
      "execution_count": null,
      "metadata": {
        "id": "qPUwggl0CKuu"
      },
      "outputs": [],
      "source": [
        "ccr_mu,ccr_mu_inv = measurement(mu_sorted_ind)\n",
        "# ccr_mu_inv = measurement_inverse(mu_sorted_ind)\n",
        "\n",
        "with open(\"/content/drive/MyDrive/paper_data/morris_ccr_mu.pkl\", 'wb') as handle:\n",
        "    pickle.dump(ccr_mu, handle, protocol=pickle.HIGHEST_PROTOCOL)\n",
        "\n",
        "with open(\"/content/drive/MyDrive/paper_data/morris_ccr_mu_inv.pkl\", 'wb') as handle:\n",
        "    pickle.dump(ccr_mu_inv, handle, protocol=pickle.HIGHEST_PROTOCOL)"
      ]
    },
    {
      "cell_type": "code",
      "execution_count": null,
      "metadata": {
        "colab": {
          "base_uri": "https://localhost:8080/"
        },
        "id": "0YP56DVgLoU-",
        "outputId": "e0dfabe3-8c6f-4b2e-824d-8184bc62bb5e"
      },
      "outputs": [
        {
          "output_type": "stream",
          "name": "stderr",
          "text": [
            "<ipython-input-95-a373d078edc5>:5: DeprecationWarning: `salib.sample.saltelli` will be removed in SALib 1.5.1 Please use `salib.sample.sobol`\n",
            "  X = saltelli.sample(problem, 300, calc_second_order=True)\n",
            "/usr/local/lib/python3.10/dist-packages/SALib/sample/saltelli.py:110: UserWarning: \n",
            "        Convergence properties of the Sobol' sequence is only valid if\n",
            "        `N` (300) is equal to `2^n`.\n",
            "        \n",
            "  warnings.warn(msg)\n"
          ]
        }
      ],
      "source": [
        "## 2- Sobol\n",
        "from SALib.sample import saltelli\n",
        "from SALib.analyze import sobol\n",
        "\n",
        "X = saltelli.sample(problem, 300, calc_second_order=True)\n",
        "X_img = X.reshape((-1,28,28))"
      ]
    },
    {
      "cell_type": "code",
      "execution_count": null,
      "metadata": {
        "id": "foU6VWkgLtSw"
      },
      "outputs": [],
      "source": [
        "pred_list = []\n",
        "for img in X_img:\n",
        "    pred_list.append(batch_predict(img))# model function for prediction\n",
        "pred_list = np.asarray(pred_list)\n",
        "model_predict_test = np.argmax(pred_list,axis = 1)\n",
        "# print(model_predict_test)"
      ]
    },
    {
      "cell_type": "code",
      "execution_count": null,
      "metadata": {
        "id": "37fmADOhPfsD"
      },
      "outputs": [],
      "source": [
        "Y = model_predict_test\n",
        "Y = np.float64(Y)\n",
        "Y = np.nan_to_num(Y).flatten()\n",
        "\n",
        "si_sobol = sobol.analyze(problem, Y, print_to_console=False)"
      ]
    },
    {
      "cell_type": "code",
      "execution_count": null,
      "metadata": {
        "id": "EXOYEOkTDC1H"
      },
      "outputs": [],
      "source": [
        "s1_ind = si_sobol['S1'].reshape((28,28))\n",
        "# s1conf_ind = si_sobol['S1_conf'].reshape((28,28))\n",
        "# stconf_ind = si_sobol['ST_conf'].reshape((28,28))\n",
        "st_ind = si_sobol['ST'].reshape((28,28))\n"
      ]
    },
    {
      "cell_type": "code",
      "source": [
        "with open(\"/content/drive/MyDrive/paper_data/ccr/mnist_sobol_index1.pkl\", 'wb') as handle:\n",
        "    pickle.dump(s1_ind, handle, protocol=pickle.HIGHEST_PROTOCOL)\n",
        "with open(\"/content/drive/MyDrive/paper_data/ccr/mnist_sobol_index2.pkl\", 'wb') as handle:\n",
        "    pickle.dump(st_ind, handle, protocol=pickle.HIGHEST_PROTOCOL)\n"
      ],
      "metadata": {
        "id": "NZXaa8jJd1_U"
      },
      "execution_count": null,
      "outputs": []
    },
    {
      "cell_type": "code",
      "execution_count": null,
      "metadata": {
        "colab": {
          "base_uri": "https://localhost:8080/",
          "height": 282
        },
        "id": "csdmsD2vDN6s",
        "outputId": "a426ad6a-a03d-47b1-bc2c-0584e0495ed6"
      },
      "outputs": [
        {
          "output_type": "display_data",
          "data": {
            "text/plain": [
              "<Figure size 600x600 with 3 Axes>"
            ],
            "image/png": "[encoded data removed]"
          },
          "metadata": {}
        }
      ],
      "source": [
        "fig,ax = plt.subplots(1,2,figsize=(6,6))\n",
        "ax[0].imshow(s1_ind)\n",
        "ax[0].set_title('s1')\n",
        "ax[0].axis('off')\n",
        "ax[1].imshow(st_ind)\n",
        "ax[1].set_title('sT')\n",
        "ax[1].axis('off')\n",
        "# ax[1].imshow(s1conf_ind)\n",
        "# ax[1].set_title('s1conf')\n",
        "# ax[1].axis('off')\n",
        "# ax[2].imshow(stconf_ind)\n",
        "# ax[2].set_title('stconf')\n",
        "# ax[2].axis('off')\n",
        "cbar_ax = fig.add_axes([0.95, 0.3, 0.05, 0.4])\n",
        "fig.colorbar(t, cax=cbar_ax)\n",
        "file_name = '/content/drive/MyDrive/paper_data/ccr/mnist_SA_sobol_sal'\n",
        "fig.savefig(file_name,\n",
        "            bbox_inches='tight',\n",
        "            pad_inches=0.1,\n",
        "            dpi=200,\n",
        "            format='png')"
      ]
    },
    {
      "cell_type": "code",
      "execution_count": null,
      "metadata": {
        "id": "_Wh4znNSs1yW"
      },
      "outputs": [],
      "source": []
    },
    {
      "cell_type": "code",
      "execution_count": null,
      "metadata": {
        "id": "8CPeWCUZtNnh"
      },
      "outputs": [],
      "source": [
        "sobol_s1_sorted, sobol_s1_sorted_ind = sort_Si(si_sobol, 'S1', sortby='S1')\n",
        "sobol_st_sorted, sobol_st_sorted_ind = sort_Si(si_sobol, 'ST', sortby='ST')\n"
      ]
    },
    {
      "cell_type": "code",
      "execution_count": null,
      "metadata": {
        "id": "lKUtHCqPt3KK"
      },
      "outputs": [],
      "source": [
        "ccr_sobol_s1,ccr_sobol_s1_inv = measurement(sobol_s1_sorted_ind)\n",
        "# ccr_sobol_s1_inv = measurement_inverse(sobol_s1_sorted_ind)\n",
        "\n",
        "with open(\"/content/drive/MyDrive/paper_data/ccr/ccr_sobol_s1.pkl\", 'wb') as handle:\n",
        "    pickle.dump(ccr_sobol_s1, handle, protocol=pickle.HIGHEST_PROTOCOL)\n",
        "\n",
        "with open(\"/content/drive/MyDrive/paper_data/ccr/ccr_sobol_s1_inv.pkl\", 'wb') as handle:\n",
        "    pickle.dump(ccr_sobol_s1_inv, handle, protocol=pickle.HIGHEST_PROTOCOL)"
      ]
    },
    {
      "cell_type": "code",
      "execution_count": null,
      "metadata": {
        "id": "sAskXXoxt3Aj"
      },
      "outputs": [],
      "source": [
        "ccr_sobol_st,ccr_sobol_st_inv = measurement(sobol_st_sorted_ind)\n",
        "# ccr_sobol_st_inv = measurement_inverse(sobol_st_sorted_ind)\n",
        "\n",
        "with open(\"/content/drive/MyDrive/paper_data/ccr/ccr_sobol_st.pkl\", 'wb') as handle:\n",
        "    pickle.dump(ccr_sobol_st, handle, protocol=pickle.HIGHEST_PROTOCOL)\n",
        "\n",
        "with open(\"/content/drive/MyDrive/paper_data/ccr/ccr_sobol_st_inv.pkl\", 'wb') as handle:\n",
        "    pickle.dump(ccr_sobol_st_inv, handle, protocol=pickle.HIGHEST_PROTOCOL)"
      ]
    },
    {
      "cell_type": "code",
      "execution_count": null,
      "metadata": {
        "id": "zu2PyCDb1Hb0"
      },
      "outputs": [],
      "source": [
        "### 3- Derivative-based Global Sensitivity Measure (DGSM)\n",
        "# from SALib.sample import finite_diff\n",
        "# from SALib.analyze import dgsm\n",
        "# X = finite_diff.sample(problem, 1000, delta=0.001)\n",
        "# X_img = X.reshape((-1,28,28))\n"
      ]
    },
    {
      "cell_type": "code",
      "source": [
        "# let's examine the results without delta parameter\n",
        "from SALib.sample import finite_diff\n",
        "from SALib.analyze import dgsm\n",
        "X = finite_diff.sample(problem, 1000)\n",
        "X_img = X.reshape((-1,28,28))\n"
      ],
      "metadata": {
        "id": "6kR-cHXpqt6J"
      },
      "execution_count": null,
      "outputs": []
    },
    {
      "cell_type": "code",
      "source": [
        "pred_list = []\n",
        "for img in X_img:\n",
        "    pred_list.append(batch_predict(img))# model function for prediction\n",
        "pred_list = np.asarray(pred_list)\n",
        "model_predict_test = np.argmax(pred_list,axis = 1)\n",
        "print(model_predict_test)"
      ],
      "metadata": {
        "colab": {
          "base_uri": "https://localhost:8080/"
        },
        "id": "RxmgOfMGIjvY",
        "outputId": "bb129523-4ace-4d03-9b8c-3ed51eae7ab6"
      },
      "execution_count": null,
      "outputs": [
        {
          "output_type": "stream",
          "name": "stdout",
          "text": [
            "[8 8 8 ... 8 8 8]\n"
          ]
        }
      ]
    },
    {
      "cell_type": "code",
      "execution_count": null,
      "metadata": {
        "colab": {
          "base_uri": "https://localhost:8080/"
        },
        "id": "ITKEg6A90Yy8",
        "outputId": "28ab6894-a2b5-4d9c-f905-5808b65671f2"
      },
      "outputs": [
        {
          "data": {
            "text/plain": [
              "(785000, 784)"
            ]
          },
          "execution_count": 155,
          "metadata": {
            "tags": []
          },
          "output_type": "execute_result"
        }
      ],
      "source": [
        "X.shape"
      ]
    },
    {
      "cell_type": "code",
      "execution_count": null,
      "metadata": {
        "id": "QY2np40WO0XP"
      },
      "outputs": [],
      "source": [
        "Y = model_predict_test\n",
        "Y = np.float64(Y)\n",
        "Y = np.nan_to_num(Y).flatten()\n",
        "\n",
        "Si_dgsm = dgsm.analyze(problem, X, Y, conf_level=0.95, print_to_console=False)\n",
        "# np.save('dgsm_analysis_'+str(hgroup)+'.npy', Si_dgsm)"
      ]
    },
    {
      "cell_type": "code",
      "execution_count": null,
      "metadata": {
        "id": "V11KrWrrQ4oF"
      },
      "outputs": [],
      "source": []
    },
    {
      "cell_type": "code",
      "execution_count": null,
      "metadata": {
        "id": "sdBKHnpHPbv8"
      },
      "outputs": [],
      "source": [
        "vi_ind = Si_dgsm['vi'].reshape((28,28))\n",
        "# vi_std_ind = Si_dgsm['vi_std'].reshape((28,28))\n",
        "dgsm_ind = Si_dgsm['dgsm'].reshape((28,28))\n",
        "# dgsm_conf_ind = Si_dgsm['dgsm_conf'].reshape((28,28))"
      ]
    },
    {
      "cell_type": "code",
      "source": [
        "with open(\"/content/drive/MyDrive/paper_data/ccr/mnist_dgsm_index1.pkl\", 'wb') as handle:\n",
        "    pickle.dump(vi_ind, handle, protocol=pickle.HIGHEST_PROTOCOL)\n",
        "with open(\"/content/drive/MyDrive/paper_data/ccr/mnist_dgsm_index2.pkl\", 'wb') as handle:\n",
        "    pickle.dump(dgsm_ind, handle, protocol=pickle.HIGHEST_PROTOCOL)\n"
      ],
      "metadata": {
        "id": "uMTTjZ0heKAA"
      },
      "execution_count": null,
      "outputs": []
    },
    {
      "cell_type": "code",
      "execution_count": null,
      "metadata": {
        "colab": {
          "base_uri": "https://localhost:8080/",
          "height": 301
        },
        "id": "5htZVPo0Om3e",
        "outputId": "fae67536-1988-46a5-8447-35ad79e2aa67"
      },
      "outputs": [
        {
          "output_type": "display_data",
          "data": {
            "text/plain": [
              "<Figure size 300x300 with 2 Axes>"
            ],
            "image/png": "[encoded data removed]"
          },
          "metadata": {}
        }
      ],
      "source": [
        "fig,ax = plt.subplots(1,1,figsize=(3,3))\n",
        "t=ax.imshow(vi_ind)\n",
        "ax.set_title('vi')\n",
        "ax.axis('off')\n",
        "# ax[1].imshow(vi_std_ind)\n",
        "# ax[1].set_title('vi_std')\n",
        "# ax[1].axis('off')\n",
        "# ax[2].imshow(dgsm_ind)\n",
        "# ax[2].set_title('dgsm')\n",
        "# ax[2].axis('off')\n",
        "# ax[3].imshow(dgsm_conf_ind)\n",
        "# ax[3].set_title('dgsm_conf')\n",
        "# ax[3].axis('off')\n",
        "cbar_ax = fig.add_axes([0.95, 0.1, 0.05, 0.8])\n",
        "fig.colorbar(t, cax=cbar_ax)\n",
        "file_name = '/content/drive/MyDrive/paper_data/ccr/mnist_SA_dgsm_sal'\n",
        "fig.savefig(file_name,\n",
        "            bbox_inches='tight',\n",
        "            pad_inches=0.1,\n",
        "            dpi=200,\n",
        "            format='png')"
      ]
    },
    {
      "cell_type": "code",
      "execution_count": null,
      "metadata": {
        "colab": {
          "base_uri": "https://localhost:8080/"
        },
        "id": "Jb351qbc_WhU",
        "outputId": "dc0bb302-a2d1-4f3e-9d01-100f0c9c99bd"
      },
      "outputs": [
        {
          "output_type": "execute_result",
          "data": {
            "text/plain": [
              "dict_keys(['vi', 'vi_std', 'dgsm', 'dgsm_conf', 'names'])"
            ]
          },
          "metadata": {},
          "execution_count": 51
        }
      ],
      "source": [
        "Si_dgsm.keys()"
      ]
    },
    {
      "cell_type": "code",
      "execution_count": null,
      "metadata": {
        "id": "ar_b2cou05JA"
      },
      "outputs": [],
      "source": [
        "dgsm_vi_sorted, dgsm_vi_sorted_ind = sort_Si(Si_dgsm, 'vi', sortby='vi')\n",
        "dgsm_dg_sorted, dgsm_dg_sorted_ind = sort_Si(Si_dgsm, 'dgsm', sortby='dgsm')\n"
      ]
    },
    {
      "cell_type": "code",
      "source": [],
      "metadata": {
        "id": "qvFN-ZNSmrQv"
      },
      "execution_count": null,
      "outputs": []
    },
    {
      "cell_type": "code",
      "execution_count": null,
      "metadata": {
        "id": "Fqo1lX9P2N3Z"
      },
      "outputs": [],
      "source": [
        "ccr_dgsm_vi,ccr_dgsm_vi_inv = measurement(dgsm_vi_sorted_ind)\n",
        "\n",
        "with open(\"/content/drive/MyDrive/paper_data/ccr/ccr_dgsm_vi.pkl\", 'wb') as handle:\n",
        "    pickle.dump(ccr_dgsm_vi, handle, protocol=pickle.HIGHEST_PROTOCOL)\n",
        "\n",
        "with open(\"/content/drive/MyDrive/paper_data/ccr/ccr_dgsm_vi_inv.pkl\", 'wb') as handle:\n",
        "    pickle.dump(ccr_dgsm_vi_inv, handle, protocol=pickle.HIGHEST_PROTOCOL)"
      ]
    },
    {
      "cell_type": "code",
      "source": [],
      "metadata": {
        "id": "FaKexBXMrJxd"
      },
      "execution_count": null,
      "outputs": []
    },
    {
      "cell_type": "code",
      "execution_count": null,
      "metadata": {
        "id": "MrAG6dX45fTC"
      },
      "outputs": [],
      "source": [
        "ccr_dgsm_dg,ccr_dgsm_dg_inv = measurement(dgsm_dg_sorted_ind)\n",
        "# ccr_dgsm_dg_inv = measurement_inverse(dgsm_dg_sorted_ind)\n",
        "\n",
        "with open(\"/content/drive/MyDrive/paper_data/ccr/ccr_dgsm_dg.pkl\", 'wb') as handle:\n",
        "    pickle.dump(ccr_dgsm_dg, handle, protocol=pickle.HIGHEST_PROTOCOL)\n",
        "\n",
        "with open(\"/content/drive/MyDrive/paper_data/ccr/ccr_dgsm_dg_inv.pkl\", 'wb') as handle:\n",
        "    pickle.dump(ccr_dgsm_dg_inv, handle, protocol=pickle.HIGHEST_PROTOCOL)"
      ]
    },
    {
      "cell_type": "code",
      "execution_count": null,
      "metadata": {
        "colab": {
          "base_uri": "https://localhost:8080/",
          "height": 374
        },
        "id": "mESUeAvg7rIp",
        "outputId": "8f27c64e-b627-4766-c6a3-d846704656f8"
      },
      "outputs": [
        {
          "data": {
            "image/png": "[encoded data removed]",
            "text/plain": [
              "<Figure size 432x288 with 1 Axes>"
            ]
          },
          "metadata": {
            "tags": []
          },
          "output_type": "display_data"
        },
        {
          "name": "stdout",
          "output_type": "stream",
          "text": [
            "[0.9833274911194556, 0.9557487297285328, 0.8517618452040748, 0.7983894030325976, 0.7380076795059507, 0.6750771005705204, 0.6275830956982846, 0.563713725512883]\n"
          ]
        }
      ],
      "source": [
        "# ccr_dgsm_conf = measurement(dgsm_conf_sorted_ind)\n",
        "# with open(\"/content/drive/MyDrive/paper_data/ccr/ccr_dgsm_conf.pkl\", 'wb') as handle:\n",
        "#     pickle.dump(ccr_dgsm_conf, handle, protocol=pickle.HIGHEST_PROTOCOL)"
      ]
    },
    {
      "cell_type": "code",
      "execution_count": null,
      "metadata": {
        "id": "rTE29Rg2_hl9"
      },
      "outputs": [],
      "source": [
        "### 4- FAST - Fourier Amplitude Sensitivity Test\n",
        "from SALib.sample import fast_sampler\n",
        "from SALib.analyze import fast\n",
        "X = fast_sampler.sample(problem,100)\n",
        "\n"
      ]
    },
    {
      "cell_type": "code",
      "execution_count": null,
      "metadata": {
        "id": "ryi6nNiKx39W"
      },
      "outputs": [],
      "source": [
        "X_img = X.reshape((-1,28,28))\n",
        "pred_list = []\n",
        "for img in X_img:\n",
        "    pred_list.append(batch_predict(img))# model function for prediction\n",
        "pred_list = np.asarray(pred_list)\n",
        "model_predict_test = np.argmax(pred_list,axis = 1)\n",
        "Y = model_predict_test\n",
        "Y = np.float64(Y)\n",
        "Y = np.nan_to_num(Y).flatten()"
      ]
    },
    {
      "cell_type": "code",
      "execution_count": null,
      "metadata": {
        "colab": {
          "base_uri": "https://localhost:8080/"
        },
        "id": "Qj-Rd0OVyS4l",
        "outputId": "a6a654c4-270a-487c-c7e9-998047fc1d1f"
      },
      "outputs": [
        {
          "output_type": "stream",
          "name": "stdout",
          "text": [
            "60125\n",
            "3857\n",
            "401\n",
            "355\n",
            "292\n",
            "2790\n",
            "316\n",
            "1827\n",
            "8255\n"
          ]
        }
      ],
      "source": [
        "for i in range(9): print(np.sum(model_predict_test==i))"
      ]
    },
    {
      "cell_type": "code",
      "execution_count": null,
      "metadata": {
        "id": "4t-3YHfgxgzJ",
        "colab": {
          "base_uri": "https://localhost:8080/"
        },
        "outputId": "cf94fd79-d2cc-428e-952d-9a95e0807a41"
      },
      "outputs": [
        {
          "output_type": "stream",
          "name": "stderr",
          "text": [
            "/usr/local/lib/python3.10/dist-packages/SALib/analyze/fast.py:117: RuntimeWarning: invalid value encountered in scalar divide\n",
            "  return (D1 / V), (1.0 - Dt / V)\n"
          ]
        }
      ],
      "source": [
        "Si_fast = fast.analyze(problem, Y, print_to_console=False)"
      ]
    },
    {
      "cell_type": "code",
      "execution_count": null,
      "metadata": {
        "colab": {
          "base_uri": "https://localhost:8080/"
        },
        "id": "07gDbSZg_cES",
        "outputId": "bfb9bbd3-0502-4246-d328-c1f28c39e9a8"
      },
      "outputs": [
        {
          "output_type": "execute_result",
          "data": {
            "text/plain": [
              "dict_keys(['S1', 'ST', 'S1_conf', 'ST_conf', 'names'])"
            ]
          },
          "metadata": {},
          "execution_count": 112
        }
      ],
      "source": [
        "Si_fast.keys()"
      ]
    },
    {
      "cell_type": "code",
      "execution_count": null,
      "metadata": {
        "id": "MW2moUMHznhi"
      },
      "outputs": [],
      "source": [
        "Si_fast['S1'] = np.asarray(Si_fast['S1'])\n",
        "Si_fast['ST'] = np.asarray(Si_fast['ST'])"
      ]
    },
    {
      "cell_type": "code",
      "execution_count": null,
      "metadata": {
        "id": "miAWCb85zMEK"
      },
      "outputs": [],
      "source": [
        "S1_ind = Si_fast['S1'].reshape((28,28))\n",
        "ST_ind = Si_fast['ST'].reshape((28,28))\n"
      ]
    },
    {
      "cell_type": "code",
      "source": [
        "with open(\"/content/drive/MyDrive/paper_data/ccr/mnist_fast_index1.pkl\", 'wb') as handle:\n",
        "    pickle.dump(S1_ind, handle, protocol=pickle.HIGHEST_PROTOCOL)\n",
        "with open(\"/content/drive/MyDrive/paper_data/ccr/mnist_fast_index2.pkl\", 'wb') as handle:\n",
        "    pickle.dump(ST_ind, handle, protocol=pickle.HIGHEST_PROTOCOL)"
      ],
      "metadata": {
        "id": "D5sfkyzhkFBQ"
      },
      "execution_count": null,
      "outputs": []
    },
    {
      "cell_type": "code",
      "execution_count": null,
      "metadata": {
        "colab": {
          "base_uri": "https://localhost:8080/",
          "height": 289
        },
        "id": "wTJ3ZWkB0Q5G",
        "outputId": "de320a7a-4a6a-4e53-d43e-823e81c68c7f"
      },
      "outputs": [
        {
          "output_type": "display_data",
          "data": {
            "text/plain": [
              "<Figure size 600x600 with 3 Axes>"
            ],
            "image/png": "[encoded data removed]"
          },
          "metadata": {}
        }
      ],
      "source": [
        "fig,ax = plt.subplots(1,2,figsize=(6,6))\n",
        "ax[0].imshow(S1_ind)\n",
        "ax[0].set_title('S1')\n",
        "ax[0].axis('off')\n",
        "t=ax[1].imshow(ST_ind)\n",
        "ax[1].set_title('ST')\n",
        "ax[1].axis('off')\n",
        "cbar_ax = fig.add_axes([0.95, 0.3, 0.05, 0.4])\n",
        "fig.colorbar(t, cax=cbar_ax)\n",
        "\n",
        "file_name = '/content/drive/MyDrive/paper_data/ccr/mnist_SA_fast_sal'\n",
        "fig.savefig(file_name,\n",
        "            bbox_inches='tight',\n",
        "            pad_inches=0.1,\n",
        "            dpi=200,\n",
        "            format='png')"
      ]
    },
    {
      "cell_type": "code",
      "execution_count": null,
      "metadata": {
        "id": "Osnv-0K7Ab_Z"
      },
      "outputs": [],
      "source": [
        "fast_s1_sorted,fast_s1_sorted_ind = sort_Si(Si_fast, 'S1', sortby='S1')\n",
        "fast_st_sorted,fast_st_sorted_ind = sort_Si(Si_fast, 'ST', sortby='ST')\n"
      ]
    },
    {
      "cell_type": "code",
      "execution_count": null,
      "metadata": {
        "id": "91qDUlqpAbvN"
      },
      "outputs": [],
      "source": [
        "ccr_fast_s1,ccr_fast_s1_inv = measurement(fast_s1_sorted_ind)\n",
        "# ccr_fast_s1_inv = measurement_inverse(fast_s1_sorted_ind)\n",
        "\n",
        "# with open(\"/content/drive/MyDrive/paper_data/ccr/ccr_fast_s1.pkl\", 'wb') as handle:\n",
        "#     pickle.dump(ccr_fast_s1, handle, protocol=pickle.HIGHEST_PROTOCOL)\n",
        "\n",
        "# with open(\"/content/drive/MyDrive/paper_data/ccr/ccr_fast_s1_inv.pkl\", 'wb') as handle:\n",
        "#     pickle.dump(ccr_fast_s1_inv, handle, protocol=pickle.HIGHEST_PROTOCOL)"
      ]
    },
    {
      "cell_type": "code",
      "source": [
        "ccr_fast_s1,ccr_fast_s1_inv"
      ],
      "metadata": {
        "colab": {
          "base_uri": "https://localhost:8080/"
        },
        "id": "uBMgwGKvxIfS",
        "outputId": "66a71331-9e82-4941-8d2c-5c8d8ac34f49"
      },
      "execution_count": null,
      "outputs": [
        {
          "output_type": "execute_result",
          "data": {
            "text/plain": [
              "([0.37942362326737916,\n",
              "  0.5451071694301393,\n",
              "  0.6471885066577944,\n",
              "  0.7641425875188605,\n",
              "  0.8913400069382316,\n",
              "  0.9521292128832266,\n",
              "  0.9771914604631201,\n",
              "  0.9833274911194556],\n",
              " [0.32810739535020383,\n",
              "  0.4246077889317233,\n",
              "  0.6989784936602329,\n",
              "  0.7865658873627293,\n",
              "  0.8261543301336512,\n",
              "  0.8549044266203436,\n",
              "  0.9312840581190673,\n",
              "  0.9833274911194556])"
            ]
          },
          "metadata": {},
          "execution_count": 29
        }
      ]
    },
    {
      "cell_type": "code",
      "execution_count": null,
      "metadata": {
        "id": "BaHq3NwOCZta"
      },
      "outputs": [],
      "source": [
        "ccr_fast_st,ccr_fast_st_inv = measurement(fast_st_sorted_ind)\n",
        "# ccr_fast_st_inv = measurement_inverse(fast_st_sorted_ind)\n",
        "\n",
        "# with open(\"/content/drive/MyDrive/paper_data/ccr/ccr_fast_st.pkl\", 'wb') as handle:\n",
        "#     pickle.dump(ccr_fast_st, handle, protocol=pickle.HIGHEST_PROTOCOL)\n",
        "\n",
        "# with open(\"/content/drive/MyDrive/paper_data/ccr/ccr_fast_st_inv.pkl\", 'wb') as handle:\n",
        "#     pickle.dump(ccr_fast_st_inv, handle, protocol=pickle.HIGHEST_PROTOCOL)"
      ]
    },
    {
      "cell_type": "code",
      "source": [
        "ccr_fast_st,ccr_fast_st_inv"
      ],
      "metadata": {
        "colab": {
          "base_uri": "https://localhost:8080/"
        },
        "id": "hE68GE7f9ZOg",
        "outputId": "bd1122eb-559b-4f7d-aae2-7d903981dc7f"
      },
      "execution_count": null,
      "outputs": [
        {
          "output_type": "execute_result",
          "data": {
            "text/plain": [
              "([0.1369451366277958,\n",
              "  0.25722527085079816,\n",
              "  0.40942936123810736,\n",
              "  0.6189680390274498,\n",
              "  0.7321384962807006,\n",
              "  0.92162032344949,\n",
              "  0.9715195194749622,\n",
              "  0.9833274911194556],\n",
              " [0.34926097513566495,\n",
              "  0.599256597853582,\n",
              "  0.7566883730214067,\n",
              "  0.8565206017435185,\n",
              "  0.9398824733730061,\n",
              "  0.9625268646182521,\n",
              "  0.9795149114406669,\n",
              "  0.9833274911194556])"
            ]
          },
          "metadata": {},
          "execution_count": 31
        }
      ]
    },
    {
      "cell_type": "code",
      "execution_count": null,
      "metadata": {
        "id": "7VNro5PSGNg7"
      },
      "outputs": [],
      "source": [
        "#### 5- RBD-FAST - Random Balance Designs Fourier Amplitude Sensitivity Test\n",
        "from SALib.sample import latin\n",
        "from SALib.analyze import rbd_fast\n",
        "X = latin.sample(problem,400)\n"
      ]
    },
    {
      "cell_type": "code",
      "execution_count": null,
      "metadata": {
        "id": "FqwPY7dL1-dp"
      },
      "outputs": [],
      "source": [
        "X_img = X.reshape((-1,28,28))\n",
        "pred_list = []\n",
        "for img in X_img:\n",
        "    pred_list.append(batch_predict(img))# model function for prediction\n",
        "pred_list = np.asarray(pred_list)\n",
        "model_predict_test = np.argmax(pred_list,axis = 1)\n",
        "Y = model_predict_test\n",
        "Y = np.float64(Y)\n",
        "Y = np.nan_to_num(Y).flatten()"
      ]
    },
    {
      "cell_type": "code",
      "execution_count": null,
      "metadata": {
        "colab": {
          "base_uri": "https://localhost:8080/"
        },
        "id": "R1qWMeO_t1TS",
        "outputId": "f5257f2c-2f53-4da5-95d3-14855efbaafd"
      },
      "outputs": [
        {
          "output_type": "stream",
          "name": "stdout",
          "text": [
            "57\n",
            "0\n",
            "4\n",
            "3\n",
            "0\n",
            "1\n",
            "0\n",
            "0\n",
            "335\n"
          ]
        }
      ],
      "source": [
        "for i in range(9): print(np.sum(model_predict_test==i))"
      ]
    },
    {
      "cell_type": "code",
      "execution_count": null,
      "metadata": {
        "id": "t0SdBGhX07Nw"
      },
      "outputs": [],
      "source": [
        "from SALib.analyze import rbd_fast\n",
        "\n",
        "Si_rbd = rbd_fast.analyze(problem,X, Y, print_to_console=False)"
      ]
    },
    {
      "cell_type": "code",
      "execution_count": null,
      "metadata": {
        "colab": {
          "base_uri": "https://localhost:8080/"
        },
        "id": "MWo8gEKL4KNU",
        "outputId": "6caf41c5-9fc4-45cf-e002-65a2cfe03339"
      },
      "outputs": [
        {
          "output_type": "execute_result",
          "data": {
            "text/plain": [
              "dict_keys(['S1', 'S1_conf', 'names'])"
            ]
          },
          "metadata": {},
          "execution_count": 73
        }
      ],
      "source": [
        "Si_rbd.keys()"
      ]
    },
    {
      "cell_type": "code",
      "execution_count": null,
      "metadata": {
        "id": "MU9UDO1W3uYK"
      },
      "outputs": [],
      "source": [
        "Si_rbd['S1'] = np.asarray(Si_rbd['S1'])\n",
        "S1_ind = Si_rbd['S1'].reshape((28,28))\n"
      ]
    },
    {
      "cell_type": "code",
      "execution_count": null,
      "metadata": {
        "id": "ankjjq3o3ixD"
      },
      "outputs": [],
      "source": [
        "with open(\"/content/drive/MyDrive/paper_data/ccr/mnist_rbd_index1.pkl\", 'wb') as handle:\n",
        "    pickle.dump(S1_ind, handle, protocol=pickle.HIGHEST_PROTOCOL)\n"
      ]
    },
    {
      "cell_type": "code",
      "source": [
        "# test loading\n",
        "# with open('/content/drive/MyDrive/paper_data/ccr/mnist_rbd_index1.pkl', 'rb') as handle:\n",
        "#       test_ind = pickle.load(handle)\n"
      ],
      "metadata": {
        "id": "L7fKMQygjTot"
      },
      "execution_count": null,
      "outputs": []
    },
    {
      "cell_type": "code",
      "source": [
        "# test visualizing\n",
        "# fig,ax = plt.subplots(1,1,figsize=(3,3))\n",
        "# t=ax.imshow(test_ind)"
      ],
      "metadata": {
        "colab": {
          "base_uri": "https://localhost:8080/",
          "height": 293
        },
        "id": "lp4lk9hMjaq5",
        "outputId": "ece5b8f7-8016-482e-bca0-74f901167825"
      },
      "execution_count": null,
      "outputs": [
        {
          "output_type": "display_data",
          "data": {
            "text/plain": [
              "<Figure size 300x300 with 1 Axes>"
            ],
            "image/png": "[encoded data removed]"
          },
          "metadata": {}
        }
      ]
    },
    {
      "cell_type": "code",
      "execution_count": null,
      "metadata": {
        "colab": {
          "base_uri": "https://localhost:8080/"
        },
        "id": "6RSXVsyI4jtV",
        "outputId": "a87f25d0-eee0-45ae-e40e-af48ed2c4566"
      },
      "outputs": [
        {
          "data": {
            "text/plain": [
              "(28, 28)"
            ]
          },
          "execution_count": 79,
          "metadata": {
            "tags": []
          },
          "output_type": "execute_result"
        }
      ],
      "source": [
        "S1_ind.shape"
      ]
    },
    {
      "cell_type": "code",
      "execution_count": null,
      "metadata": {
        "colab": {
          "base_uri": "https://localhost:8080/",
          "height": 293
        },
        "id": "DKII8Hib4XFG",
        "outputId": "ceb7d38e-d883-4e78-81ef-98cdb2352201"
      },
      "outputs": [
        {
          "output_type": "display_data",
          "data": {
            "text/plain": [
              "<Figure size 300x300 with 2 Axes>"
            ],
            "image/png": "[encoded data removed]"
          },
          "metadata": {}
        }
      ],
      "source": [
        "fig,ax = plt.subplots(1,1,figsize=(3,3))\n",
        "t=ax.imshow(S1_ind)\n",
        "ax.set_title('S1')\n",
        "ax.axis('off')\n",
        "cbar_ax = fig.add_axes([0.95, 0.1, 0.05, 0.8])\n",
        "fig.colorbar(t, cax=cbar_ax)\n",
        "file_name = '/content/drive/MyDrive/paper_data/ccr/mnist_SA_rbd_sal'\n",
        "fig.savefig(file_name,\n",
        "            bbox_inches='tight',\n",
        "            pad_inches=0.1,\n",
        "            dpi=200,\n",
        "            format='png')"
      ]
    },
    {
      "cell_type": "code",
      "execution_count": null,
      "metadata": {
        "id": "HPxoum6lum9n"
      },
      "outputs": [],
      "source": [
        "rbd_s1_sorted,rbd_s1_sorted_ind = sort_Si(Si_rbd, 'S1', sortby='S1')\n"
      ]
    },
    {
      "cell_type": "code",
      "execution_count": null,
      "metadata": {
        "id": "ccu4UkYIwqa_"
      },
      "outputs": [],
      "source": [
        "ccr_rbd_s1,ccr_rbd_s1_inv = measurement(rbd_s1_sorted_ind)\n",
        "# ccr_rbd_s1_inv = measurement_inverse(rbd_s1_sorted_ind)\n",
        "\n",
        "with open(\"/content/drive/MyDrive/paper_data/rbd_s1.pkl\", 'wb') as handle:\n",
        "    pickle.dump(ccr_rbd_s1, handle, protocol=pickle.HIGHEST_PROTOCOL)\n",
        "\n",
        "with open(\"/content/drive/MyDrive/paper_data/rbd_s1_inv.pkl\", 'wb') as handle:\n",
        "    pickle.dump(ccr_rbd_s1_inv, handle, protocol=pickle.HIGHEST_PROTOCOL)"
      ]
    },
    {
      "cell_type": "code",
      "execution_count": null,
      "metadata": {
        "id": "VA3rG-gmMjbk"
      },
      "outputs": [],
      "source": [
        "#### 6- Delta Moment-Independent Measure\n",
        "from SALib.sample import latin\n",
        "from SALib.analyze import delta\n",
        "X = latin.sample(problem,1000)\n"
      ]
    },
    {
      "cell_type": "code",
      "execution_count": null,
      "metadata": {
        "id": "3pf0hpCo7QRx"
      },
      "outputs": [],
      "source": [
        "X_img = X.reshape((-1,28,28))\n",
        "pred_list = []\n",
        "for img in X_img:\n",
        "    pred_list.append(batch_predict(img))# model function for prediction\n",
        "pred_list = np.asarray(pred_list)\n",
        "model_predict_test = np.argmax(pred_list,axis = 1)\n",
        "Y = model_predict_test\n",
        "Y = np.float64(Y)\n",
        "Y = np.nan_to_num(Y).flatten()\n"
      ]
    },
    {
      "cell_type": "code",
      "execution_count": null,
      "metadata": {
        "colab": {
          "base_uri": "https://localhost:8080/"
        },
        "id": "SXVW5dXhJc5H",
        "outputId": "5f83b175-0fff-4661-fde3-f314c28e5b5c"
      },
      "outputs": [
        {
          "data": {
            "text/plain": [
              "(1000,)"
            ]
          },
          "execution_count": 112,
          "metadata": {
            "tags": []
          },
          "output_type": "execute_result"
        }
      ],
      "source": [
        "model_predict_test.shape"
      ]
    },
    {
      "cell_type": "code",
      "execution_count": null,
      "metadata": {
        "colab": {
          "base_uri": "https://localhost:8080/"
        },
        "id": "g9Z9UbpIJ7xw",
        "outputId": "eb0d80e0-31cc-4dff-e658-03df4ee2a10d"
      },
      "outputs": [
        {
          "output_type": "stream",
          "name": "stdout",
          "text": [
            "156\n",
            "0\n",
            "14\n",
            "1\n",
            "0\n",
            "0\n",
            "0\n",
            "0\n",
            "829\n"
          ]
        }
      ],
      "source": [
        "for i in range(9): print(np.sum(model_predict_test==i))"
      ]
    },
    {
      "cell_type": "code",
      "execution_count": null,
      "metadata": {
        "id": "HUqi-sQU6EOW"
      },
      "outputs": [],
      "source": [
        "Si_delta = delta.analyze(problem,X, Y, print_to_console=False)"
      ]
    },
    {
      "cell_type": "code",
      "execution_count": null,
      "metadata": {
        "colab": {
          "base_uri": "https://localhost:8080/"
        },
        "id": "vOuGPPdU_R8W",
        "outputId": "4b7b098e-3b71-4ac7-fb40-19162fb0377a"
      },
      "outputs": [
        {
          "data": {
            "text/plain": [
              "numpy.ndarray"
            ]
          },
          "execution_count": 118,
          "metadata": {
            "tags": []
          },
          "output_type": "execute_result"
        }
      ],
      "source": [
        "type(Si_delta['delta'])"
      ]
    },
    {
      "cell_type": "code",
      "execution_count": null,
      "metadata": {
        "id": "JM2TxScy_Bmy"
      },
      "outputs": [],
      "source": [
        "delta_ind = Si_delta['delta'].reshape((28,28))\n",
        "# deltaconf_ind = Si_delta['delta_conf'].reshape((28,28))\n",
        "deltaS1_ind = Si_delta['S1'].reshape((28,28))\n",
        "# deltaS1conf_ind = Si_delta['S1_conf'].reshape((28,28))"
      ]
    },
    {
      "cell_type": "code",
      "source": [
        "with open(\"/content/drive/MyDrive/paper_data/ccr/mnist_delta_index1.pkl\", 'wb') as handle:\n",
        "    pickle.dump(delta_ind, handle, protocol=pickle.HIGHEST_PROTOCOL)\n"
      ],
      "metadata": {
        "id": "hZTjyQWhjria"
      },
      "execution_count": null,
      "outputs": []
    },
    {
      "cell_type": "code",
      "execution_count": null,
      "metadata": {
        "colab": {
          "base_uri": "https://localhost:8080/",
          "height": 293
        },
        "id": "FejE6FqbGgKe",
        "outputId": "ea04fa8f-0a46-449c-dc59-ea4e4d8e3da5"
      },
      "outputs": [
        {
          "output_type": "display_data",
          "data": {
            "text/plain": [
              "<Figure size 300x300 with 2 Axes>"
            ],
            "image/png": "[encoded data removed]"
          },
          "metadata": {}
        }
      ],
      "source": [
        "fig,ax = plt.subplots(1,1,figsize=(3,3))\n",
        "t = ax.imshow(delta_ind)\n",
        "ax.set_title('delta')\n",
        "ax.axis('off')\n",
        "# ax[1].imshow(deltaconf_ind)\n",
        "# ax[1].set_title('delta_conf')\n",
        "# ax[1].axis('off')\n",
        "# ax[1].imshow(deltaS1_ind)\n",
        "# ax[1].set_title('S1')\n",
        "# ax[1].axis('off')\n",
        "cbar_ax = fig.add_axes([0.95, 0.1, 0.05, 0.8])\n",
        "fig.colorbar(t, cax=cbar_ax)\n",
        "# ax[3].imshow(deltaS1conf_ind)\n",
        "# ax[3].set_title('S1_conf')\n",
        "# ax[3].axis('off')\n",
        "file_name = '/content/drive/MyDrive/paper_data/ccr/mnist_SA_delta_sal'\n",
        "fig.savefig(file_name,\n",
        "            bbox_inches='tight',\n",
        "            pad_inches=0.1,\n",
        "            dpi=200,\n",
        "            format='png')"
      ]
    },
    {
      "cell_type": "code",
      "execution_count": null,
      "metadata": {
        "id": "5-7G_2gmw-cf"
      },
      "outputs": [],
      "source": [
        "delta_d_sorted,delta_d_sorted_ind = sort_Si(Si_delta, 'delta', sortby='delta')\n",
        "# delta_conf_sorted,delta_conf_sorted_ind = sort_Si(Si_delta, 'delta_conf', sortby='delta_conf')\n",
        "delta_s1_sorted,delta_s1_sorted_ind = sort_Si(Si_delta, 'S1', sortby='S1')\n",
        "# delta_s1conf_sorted,delta_s1conf_sorted_ind = sort_Si(Si_delta, 'S1_conf', sortby='S1_conf')"
      ]
    },
    {
      "cell_type": "code",
      "execution_count": null,
      "metadata": {
        "id": "biF_x-3Uykym"
      },
      "outputs": [],
      "source": [
        "ccr_delta_d,ccr_delta_d_inv = measurement(delta_d_sorted_ind)\n",
        "# ccr_delta_d_inv = measurement_inverse(delta_d_sorted_ind)\n",
        "\n",
        "with open(\"/content/drive/MyDrive/paper_data/ccr/ccr_delta_d.pkl\", 'wb') as handle:\n",
        "    pickle.dump(ccr_delta_d, handle, protocol=pickle.HIGHEST_PROTOCOL)\n",
        "\n",
        "with open(\"/content/drive/MyDrive/paper_data/ccr/ccr_delta_d_inv.pkl\", 'wb') as handle:\n",
        "    pickle.dump(ccr_delta_d_inv, handle, protocol=pickle.HIGHEST_PROTOCOL)"
      ]
    },
    {
      "cell_type": "code",
      "execution_count": null,
      "metadata": {
        "id": "_oZhE0c731eI"
      },
      "outputs": [],
      "source": [
        "# ccr_delta_conf = measurement(delta_conf_sorted_ind)\n",
        "# with open(\"/content/drive/MyDrive/paper_data/ccr/ccr_delta_conf.pkl\", 'wb') as handle:\n",
        "#     pickle.dump(ccr_delta_conf, handle, protocol=pickle.HIGHEST_PROTOCOL)"
      ]
    },
    {
      "cell_type": "code",
      "execution_count": null,
      "metadata": {
        "id": "1ZSatNaU396D"
      },
      "outputs": [],
      "source": [
        "ccr_delta_s1,ccr_delta_s1_inv = measurement(delta_s1_sorted_ind)\n",
        "# ccr_delta_s1_inv = measurement_inverse(delta_s1_sorted_ind)\n",
        "\n",
        "with open(\"/content/drive/MyDrive/paper_data/ccr/ccr_delta_s1.pkl\", 'wb') as handle:\n",
        "    pickle.dump(ccr_delta_s1, handle, protocol=pickle.HIGHEST_PROTOCOL)\n",
        "\n",
        "with open(\"/content/drive/MyDrive/paper_data/ccr/ccr_delta_s1_inv.pkl\", 'wb') as handle:\n",
        "    pickle.dump(ccr_delta_s1_inv, handle, protocol=pickle.HIGHEST_PROTOCOL)"
      ]
    },
    {
      "cell_type": "code",
      "execution_count": null,
      "metadata": {
        "id": "L1oysaxNW1tX"
      },
      "outputs": [],
      "source": [
        "import pickle\n",
        "with open('/content/drive/MyDrive/paper_data/ccr/morris_ccr_mu_star.pkl', 'rb') as handle:\n",
        "      ccr_mu_star = pickle.load(handle)\n",
        "with open('/content/drive/MyDrive/paper_data/ccr/morris_ccr_sigma.pkl', 'rb') as handle:\n",
        "      ccr_sigma = pickle.load(handle)\n",
        "with open('/content/drive/MyDrive/paper_data/morris_ccr_mu.pkl', 'rb') as handle:\n",
        "      ccr_mu = pickle.load(handle)\n",
        "with open('/content/drive/MyDrive/paper_data/ccr/ccr_sobol_s1.pkl', 'rb') as handle:\n",
        "      ccr_sobol_s1 = pickle.load(handle)\n",
        "with open('/content/drive/MyDrive/paper_data/ccr/ccr_sobol_st.pkl', 'rb') as handle:\n",
        "      ccr_sobol_st = pickle.load(handle)\n",
        "with open('/content/drive/MyDrive/paper_data/ccr/ccr_dgsm_vi.pkl', 'rb') as handle:\n",
        "      ccr_dgsm_vi = pickle.load(handle)\n",
        "with open('/content/drive/MyDrive/paper_data/ccr/ccr_dgsm_dg.pkl', 'rb') as handle:\n",
        "      ccr_dgsm_dg = pickle.load(handle)\n",
        "with open('/content/drive/MyDrive/paper_data/ccr/ccr_fast_s1.pkl', 'rb') as handle:\n",
        "      ccr_fast_s1 = pickle.load(handle)\n",
        "with open('/content/drive/MyDrive/paper_data/ccr/ccr_fast_st.pkl', 'rb') as handle:\n",
        "      ccr_fast_st = pickle.load(handle)\n",
        "with open('/content/drive/MyDrive/paper_data/rbd_s1.pkl', 'rb') as handle:\n",
        "      ccr_rbd_s1 = pickle.load(handle)\n",
        "with open('/content/drive/MyDrive/paper_data/ccr/ccr_delta_d.pkl', 'rb') as handle:\n",
        "      ccr_delta_d = pickle.load(handle)\n",
        "with open('/content/drive/MyDrive/paper_data/ccr/ccr_delta_s1.pkl', 'rb') as handle:\n",
        "      ccr_delta_s1 = pickle.load(handle)\n",
        "\n",
        "with open('/content/drive/MyDrive/paper_data/ccr/morris_ccr_mu_star_inv.pkl', 'rb') as handle:\n",
        "      ccr_mu_star_inv = pickle.load(handle)\n",
        "with open('/content/drive/MyDrive/paper_data/ccr/morris_ccr_sigma_inv.pkl', 'rb') as handle:\n",
        "      ccr_sigma_inv = pickle.load(handle)\n",
        "with open('/content/drive/MyDrive/paper_data/morris_ccr_mu_inv.pkl', 'rb') as handle:\n",
        "      ccr_mu_inv = pickle.load(handle)\n",
        "with open('/content/drive/MyDrive/paper_data/ccr/ccr_sobol_s1_inv.pkl', 'rb') as handle:\n",
        "      ccr_sobol_s1_inv = pickle.load(handle)\n",
        "with open('/content/drive/MyDrive/paper_data/ccr/ccr_sobol_st_inv.pkl', 'rb') as handle:\n",
        "      ccr_sobol_st_inv = pickle.load(handle)\n",
        "with open('/content/drive/MyDrive/paper_data/ccr/ccr_dgsm_vi_inv.pkl', 'rb') as handle:\n",
        "      ccr_dgsm_vi_inv = pickle.load(handle)\n",
        "with open('/content/drive/MyDrive/paper_data/ccr/ccr_dgsm_dg_inv.pkl', 'rb') as handle:\n",
        "      ccr_dgsm_dg_inv = pickle.load(handle)\n",
        "with open('/content/drive/MyDrive/paper_data/ccr/ccr_fast_s1_inv.pkl', 'rb') as handle:\n",
        "      ccr_fast_s1_inv = pickle.load(handle)\n",
        "with open('/content/drive/MyDrive/paper_data/ccr/ccr_fast_st_inv.pkl', 'rb') as handle:\n",
        "      ccr_fast_st_inv = pickle.load(handle)\n",
        "with open('/content/drive/MyDrive/paper_data/rbd_s1_inv.pkl', 'rb') as handle:\n",
        "      ccr_rbd_s1_inv = pickle.load(handle)\n",
        "with open('/content/drive/MyDrive/paper_data/ccr/ccr_delta_d_inv.pkl', 'rb') as handle:\n",
        "      ccr_delta_d_inv = pickle.load(handle)\n",
        "with open('/content/drive/MyDrive/paper_data/ccr/ccr_delta_s1_inv.pkl', 'rb') as handle:\n",
        "      ccr_delta_s1_inv = pickle.load(handle)"
      ]
    },
    {
      "cell_type": "code",
      "execution_count": null,
      "metadata": {
        "id": "smKjgNcSmQRu"
      },
      "outputs": [],
      "source": [
        "def subtract_list(list1,list2):\n",
        "    difference = []\n",
        "    zip_object = zip(list1, list2)\n",
        "\n",
        "    for list1_i, list2_i in zip_object:\n",
        "\n",
        "        difference.append(list1_i-list2_i)\n",
        "    return(difference)"
      ]
    },
    {
      "cell_type": "code",
      "execution_count": null,
      "metadata": {
        "colab": {
          "base_uri": "https://localhost:8080/"
        },
        "id": "pzc4dw0om3Co",
        "outputId": "79d788fc-f0e8-4674-de8d-cfd89545ac4f"
      },
      "outputs": [
        {
          "data": {
            "text/plain": [
              "list"
            ]
          },
          "execution_count": 90,
          "metadata": {
            "tags": []
          },
          "output_type": "execute_result"
        }
      ],
      "source": [
        "s = subtract_list(ccr_mu_star,ccr_mu_star_inv)\n",
        "type(s)"
      ]
    },
    {
      "cell_type": "code",
      "execution_count": null,
      "metadata": {
        "id": "A7n9iQaWi0WO"
      },
      "outputs": [],
      "source": [
        "\n",
        "mu_star_diff = subtract_list(ccr_mu_star,ccr_mu_star_inv)\n",
        "sigma_diff = subtract_list(ccr_sigma,ccr_sigma_inv)\n",
        "mu_diff = subtract_list(ccr_mu,ccr_mu_inv)\n",
        "sobol_s1_diff = subtract_list(ccr_sobol_s1,ccr_sobol_s1_inv)\n",
        "ccr_dgsm_vi_diff = subtract_list(ccr_dgsm_vi,ccr_dgsm_vi_inv)\n",
        "ccr_dgsm_dg_diff = subtract_list(ccr_dgsm_dg,ccr_dgsm_dg_inv)\n",
        "ccr_fast_s1_diff = subtract_list(ccr_fast_s1,ccr_fast_s1_inv)\n",
        "ccr_fast_st_diff = subtract_list(ccr_fast_st,ccr_fast_st_inv)\n",
        "ccr_delta_d_diff = subtract_list(ccr_delta_d,ccr_delta_d_inv)\n",
        "ccr_delta_s1_diff = subtract_list(ccr_delta_s1,ccr_delta_s1_inv)"
      ]
    },
    {
      "cell_type": "code",
      "execution_count": null,
      "metadata": {
        "id": "O0_JS7_nWYae"
      },
      "outputs": [],
      "source": [
        "ac2 = AgglomerativeClustering(n_clusters = 2)\n",
        "\n",
        "# Visualizing the clustering\n",
        "plt.figure(figsize =(6, 6))\n",
        "plt.scatter(X_principal['P1'], X_principal['P2'],\n",
        "           c = ac2.fit_predict(X_principal), cmap ='rainbow')\n",
        "plt.show()"
      ]
    },
    {
      "cell_type": "code",
      "source": [],
      "metadata": {
        "id": "gCWQi8eWlGaJ"
      },
      "execution_count": null,
      "outputs": []
    },
    {
      "cell_type": "code",
      "source": [],
      "metadata": {
        "id": "JtQfp7QblGXL"
      },
      "execution_count": null,
      "outputs": []
    },
    {
      "cell_type": "code",
      "source": [],
      "metadata": {
        "id": "bTdIS8FJlGUB"
      },
      "execution_count": null,
      "outputs": []
    },
    {
      "cell_type": "code",
      "source": [
        "with open('/content/drive/MyDrive/paper_data/ccr/mnist_morris_index1.pkl', 'rb') as handle:\n",
        "      morris_ind1 = pickle.load(handle)\n",
        "with open('/content/drive/MyDrive/paper_data/ccr/mnist_morris_index2.pkl', 'rb') as handle:\n",
        "      morris_ind2 = pickle.load(handle)\n",
        "with open('/content/drive/MyDrive/paper_data/ccr/mnist_morris_index3.pkl', 'rb') as handle:\n",
        "      morris_ind3 = pickle.load(handle)\n",
        "\n",
        "with open('/content/drive/MyDrive/paper_data/ccr/mnist_sobol_index1.pkl', 'rb') as handle:\n",
        "      sobol_ind1 = pickle.load(handle)\n",
        "with open('/content/drive/MyDrive/paper_data/ccr/mnist_sobol_index2.pkl', 'rb') as handle:\n",
        "      sobol_ind2 = pickle.load(handle)\n",
        "\n",
        "with open('/content/drive/MyDrive/paper_data/ccr/mnist_fast_index1.pkl', 'rb') as handle:\n",
        "      fast_ind1 = pickle.load(handle)\n",
        "with open('/content/drive/MyDrive/paper_data/ccr/mnist_fast_index2.pkl', 'rb') as handle:\n",
        "      fast_ind2 = pickle.load(handle)\n",
        "\n",
        "with open('/content/drive/MyDrive/paper_data/ccr/mnist_rbd_index1.pkl', 'rb') as handle:\n",
        "      rbd_ind1 = pickle.load(handle)\n",
        "\n",
        "with open('/content/drive/MyDrive/paper_data/ccr/mnist_dgsm_index1.pkl', 'rb') as handle:\n",
        "      dgsm_ind1 = pickle.load(handle)\n",
        "with open('/content/drive/MyDrive/paper_data/ccr/mnist_dgsm_index2.pkl', 'rb') as handle:\n",
        "      dgsm_ind2 = pickle.load(handle)\n",
        "\n",
        "with open('/content/drive/MyDrive/paper_data/ccr/mnist_delta_index1.pkl', 'rb') as handle:\n",
        "      delta_ind1 = pickle.load(handle)\n"
      ],
      "metadata": {
        "id": "JYDPX9sHlGRZ"
      },
      "execution_count": null,
      "outputs": []
    },
    {
      "cell_type": "code",
      "source": [
        "def visulaize(i,j,ind,titl):\n",
        "    a = ax[i][j].imshow(ind)\n",
        "    ax[i][j].set_title(titl,fontsize = 8)\n",
        "    ax[i][j].axis('off')\n",
        "    return a"
      ],
      "metadata": {
        "id": "qupcTeLomyBl"
      },
      "execution_count": null,
      "outputs": []
    },
    {
      "cell_type": "code",
      "source": [
        "fig,ax = plt.subplots(6,3,figsize=(6,6))\n",
        "visulaize(0,0,morris_ind1,\"morris-mu-star\")\n",
        "visulaize(0,1,morris_ind2,\"morris-sigma\")\n",
        "visulaize(0,2,morris_ind3,\"morris-mu\")\n",
        "\n",
        "visulaize(1,0,sobol_ind1,\"sobol-s1\")\n",
        "visulaize(1,1,sobol_ind2,\"sobol-sT\")\n",
        "ax[1][2].set_visible(False)\n",
        "\n",
        "visulaize(2,0,fast_ind1,\"fast-s1\")\n",
        "visulaize(2,1,fast_ind2,\"fast-sT\")\n",
        "ax[2][2].set_visible(False)\n",
        "\n",
        "visulaize(3,0,rbd_ind1,\"rbd-s1\")\n",
        "ax[3][1].set_visible(False)\n",
        "ax[3][2].set_visible(False)\n",
        "\n",
        "visulaize(4,0,dgsm_ind1,\"dgsm-v\")\n",
        "# visulaize(1,1,sobol_ind2,\"dgsm\")\n",
        "ax[4][1].set_visible(False)\n",
        "ax[4][2].set_visible(False)\n",
        "\n",
        "a = visulaize(5,0,delta_ind1,\"delta\")\n",
        "ax[5][1].set_visible(False)\n",
        "ax[5][2].set_visible(False)\n",
        "\n",
        "\n",
        "\n",
        "\n",
        "cbar_ax = fig.add_axes([0.95, 0.1, 0.03, 0.8])\n",
        "fig.colorbar(a, cax=cbar_ax)\n",
        "fig.tight_layout()\n",
        "\n",
        "file_name = '/content/drive/MyDrive/paper_data/ccr/mnist_all_indexes_sal'\n",
        "fig.savefig(file_name,\n",
        "            bbox_inches='tight',\n",
        "            pad_inches=0.1,\n",
        "            dpi=200,\n",
        "            format='png')"
      ],
      "metadata": {
        "colab": {
          "base_uri": "https://localhost:8080/",
          "height": 662
        },
        "id": "e4sLo9EylTRk",
        "outputId": "b3dc96f8-f502-4cb4-98df-5ede75d75196"
      },
      "execution_count": null,
      "outputs": [
        {
          "output_type": "stream",
          "name": "stderr",
          "text": [
            "<ipython-input-159-e1357aec5bc2>:32: UserWarning: This figure includes Axes that are not compatible with tight_layout, so results might be incorrect.\n",
            "  fig.tight_layout()\n"
          ]
        },
        {
          "output_type": "display_data",
          "data": {
            "text/plain": [
              "<Figure size 600x600 with 19 Axes>"
            ],
            "image/png": "[encoded data removed]"
          },
          "metadata": {}
        }
      ]
    },
    {
      "cell_type": "code",
      "source": [],
      "metadata": {
        "id": "uMaaGdEfmSJX"
      },
      "execution_count": null,
      "outputs": []
    }
  ],
  "metadata": {
    "accelerator": "GPU",
    "colab": {
      "provenance": []
    },
    "kernelspec": {
      "display_name": "Python 3",
      "name": "python3"
    }
  },
  "nbformat": 4,
  "nbformat_minor": 0
}