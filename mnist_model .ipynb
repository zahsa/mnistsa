{
  "nbformat": 4,
  "nbformat_minor": 0,
  "metadata": {
    "colab": {
      "provenance": []
    },
    "kernelspec": {
      "name": "python3",
      "display_name": "Python 3"
    },
    "accelerator": "GPU"
  },
  "cells": [
    {
      "cell_type": "code",
      "metadata": {
        "id": "pWVmtQfp8QQN"
      },
      "source": [
        "import numpy as np\n",
        "from matplotlib import pyplot as plt\n",
        "from torchvision import datasets, transforms\n",
        "\n",
        "import torch\n",
        "from torch import nn\n",
        "from torch import optim\n",
        "import torch.nn.functional as F\n",
        "\n",
        "from google.colab import files\n",
        "\n",
        "#import helper\n",
        "%matplotlib inline\n",
        "%config InlineBackend.figure_format = 'retina'\n",
        "\n",
        "# moves your model to train on your gpu if available else it uses your cpu\n",
        "device = (\"cuda\" if torch.cuda.is_available() else \"cpu\")"
      ],
      "execution_count": null,
      "outputs": []
    },
    {
      "cell_type": "code",
      "metadata": {
        "id": "pTX3r9DU8Y23"
      },
      "source": [
        "# Define transform to normalize data\n",
        "transform = transforms.Compose([\n",
        "                                transforms.ToTensor(),\n",
        "                                transforms.Normalize((0.1307,), (0.3081,))\n",
        "                                ])\n",
        "\n",
        "\n",
        "\n",
        "# Download and load the training data\n",
        "train_set = datasets.MNIST('DATA_MNIST/', download=True, train=True, transform=transform)\n",
        "trainloader = torch.utils.data.DataLoader(train_set, batch_size=64, shuffle=True)\n",
        "\n",
        "test_set = datasets.MNIST('DATA_MNIST/', download=True, train=False, transform=transform)\n",
        "testloader = torch.utils.data.DataLoader(test_set, batch_size=64, shuffle=True)"
      ],
      "execution_count": null,
      "outputs": []
    },
    {
      "cell_type": "code",
      "metadata": {
        "id": "r7xcjccF8Zw2",
        "colab": {
          "base_uri": "https://localhost:8080/"
        },
        "outputId": "896f0a3e-8eef-426e-d740-fcc0e3f41ba8"
      },
      "source": [
        "training_data = enumerate(trainloader)\n",
        "batch_idx, (images, labels) = next(training_data)\n",
        "print(type(images)) # Checking the datatype\n",
        "print(images.shape) # the size of the image\n",
        "print(labels.shape) # the size of the labels"
      ],
      "execution_count": null,
      "outputs": [
        {
          "output_type": "stream",
          "text": [
            "<class 'torch.Tensor'>\n",
            "torch.Size([64, 1, 28, 28])\n",
            "torch.Size([64])\n"
          ],
          "name": "stdout"
        }
      ]
    },
    {
      "cell_type": "code",
      "metadata": {
        "id": "qYoLjIav8beT"
      },
      "source": [
        "class Network(nn.Module):\n",
        "\n",
        "    def __init__(self):\n",
        "        super(Network, self).__init__()\n",
        "        self.convolutaional_neural_network_layers = nn.Sequential(\n",
        "\n",
        "                nn.Conv2d(in_channels=1, out_channels=12, kernel_size=3, padding=1, stride=1), # (N, 1, 28, 28)\n",
        "\n",
        "                nn.MaxPool2d(kernel_size=2),\n",
        "\n",
        "\n",
        "                nn.Conv2d(in_channels=12, out_channels=24, kernel_size=3, padding=1, stride=1),\n",
        "                nn.ReLU(),\n",
        "\n",
        "                nn.MaxPool2d(kernel_size=2)\n",
        "\n",
        "        )\n",
        "\n",
        "        # Linear layer\n",
        "        self.linear_layers = nn.Sequential(\n",
        "\n",
        "                nn.Linear(in_features=24*7*7, out_features=64),\n",
        "                nn.ReLU(),\n",
        "                nn.Dropout(p=0.2),\n",
        "                nn.Linear(in_features=64, out_features=10)\n",
        "        )\n",
        "\n",
        "    # Defining the forward pass\n",
        "    def forward(self, x):\n",
        "        x = self.convolutaional_neural_network_layers(x)\n",
        "\n",
        "        x = x.view(x.size(0), -1)\n",
        "\n",
        "        x = self.linear_layers(x)\n",
        "\n",
        "        x = F.log_softmax(x, dim=1)\n",
        "        return x"
      ],
      "execution_count": null,
      "outputs": []
    },
    {
      "cell_type": "code",
      "metadata": {
        "id": "KCcDmne38coE",
        "colab": {
          "base_uri": "https://localhost:8080/"
        },
        "outputId": "b83ea3ef-ac62-4772-aad4-bc63034dad2b"
      },
      "source": [
        "model = Network()\n",
        "model.to(device)\n",
        "print(model)"
      ],
      "execution_count": null,
      "outputs": [
        {
          "output_type": "stream",
          "text": [
            "Network(\n",
            "  (convolutaional_neural_network_layers): Sequential(\n",
            "    (0): Conv2d(1, 12, kernel_size=(3, 3), stride=(1, 1), padding=(1, 1))\n",
            "    (1): ReLU()\n",
            "    (2): MaxPool2d(kernel_size=2, stride=2, padding=0, dilation=1, ceil_mode=False)\n",
            "    (3): Conv2d(12, 24, kernel_size=(3, 3), stride=(1, 1), padding=(1, 1))\n",
            "    (4): ReLU()\n",
            "    (5): MaxPool2d(kernel_size=2, stride=2, padding=0, dilation=1, ceil_mode=False)\n",
            "  )\n",
            "  (linear_layers): Sequential(\n",
            "    (0): Linear(in_features=1176, out_features=64, bias=True)\n",
            "    (1): ReLU()\n",
            "    (2): Dropout(p=0.2, inplace=False)\n",
            "    (3): Linear(in_features=64, out_features=10, bias=True)\n",
            "  )\n",
            ")\n"
          ],
          "name": "stdout"
        }
      ]
    },
    {
      "cell_type": "code",
      "metadata": {
        "id": "srdvvMUp8dxK"
      },
      "source": [
        "optimizer = optim.SGD(model.parameters(), lr=0.01)\n",
        "criterion = nn.CrossEntropyLoss()"
      ],
      "execution_count": null,
      "outputs": []
    },
    {
      "cell_type": "code",
      "metadata": {
        "id": "RNrkwJD10a7Y",
        "colab": {
          "base_uri": "https://localhost:8080/"
        },
        "outputId": "9be422f5-3409-4fc5-d7a6-396b606c3700"
      },
      "source": [
        "epochs = 10 # The total number of iterations\n",
        "\n",
        "train_losses = []\n",
        "test_losses = []\n",
        "\n",
        "for epoch in range(epochs):\n",
        "    # prep model for training\n",
        "    model.train()\n",
        "    train_loss = 0\n",
        "\n",
        "    for idx, (images, labels) in enumerate(trainloader):\n",
        "\n",
        "        images = images.to(device)\n",
        "        labels = labels.to(device)\n",
        "\n",
        "        # Training pass\n",
        "        optimizer.zero_grad()\n",
        "\n",
        "        # Forward pass\n",
        "        output = model(images)\n",
        "        loss = criterion(output, labels)\n",
        "\n",
        "        #Backward pass\n",
        "        loss.backward()\n",
        "        optimizer.step()\n",
        "\n",
        "        train_loss += loss.item()\n",
        "\n",
        "    else:\n",
        "        # prep model for evaluation\n",
        "        model.eval()\n",
        "        test_loss = 0\n",
        "        accuracy = 0\n",
        "\n",
        "\n",
        "        with torch.no_grad():\n",
        "            for images, labels in testloader:\n",
        "\n",
        "                images = images.to(device)\n",
        "                labels = labels.to(device)\n",
        "\n",
        "                log_probabilities = model(images)\n",
        "                test_loss += criterion(log_probabilities, labels)\n",
        "\n",
        "                probabilities = torch.exp(log_probabilities)\n",
        "                top_prob, top_class = probabilities.topk(1, dim=1)\n",
        "                predictions = top_class == labels.view(*top_class.shape)\n",
        "                accuracy += torch.mean(predictions.type(torch.FloatTensor))\n",
        "\n",
        "        train_losses.append(train_loss/len(trainloader))\n",
        "        test_losses.append(test_loss/len(testloader))\n",
        "\n",
        "        print(\"Epoch: {}/{}  \".format(epoch+1, epochs),\n",
        "              \"Training loss: {:.4f}  \".format(train_loss/len(trainloader)),\n",
        "              \"Testing loss: {:.4f}  \".format(test_loss/len(testloader)),\n",
        "              \"Test accuracy: {:.4f}  \".format(accuracy/len(testloader)))"
      ],
      "execution_count": null,
      "outputs": [
        {
          "output_type": "stream",
          "text": [
            "Epoch: 1/10   Training loss: 0.7518   Testing loss: 0.2561   Test accuracy: 0.9177  \n",
            "Epoch: 2/10   Training loss: 0.2565   Testing loss: 0.1687   Test accuracy: 0.9502  \n",
            "Epoch: 3/10   Training loss: 0.1838   Testing loss: 0.1153   Test accuracy: 0.9652  \n",
            "Epoch: 4/10   Training loss: 0.1462   Testing loss: 0.1014   Test accuracy: 0.9697  \n",
            "Epoch: 5/10   Training loss: 0.1207   Testing loss: 0.0858   Test accuracy: 0.9730  \n",
            "Epoch: 6/10   Training loss: 0.1046   Testing loss: 0.0668   Test accuracy: 0.9780  \n",
            "Epoch: 7/10   Training loss: 0.0928   Testing loss: 0.0632   Test accuracy: 0.9795  \n",
            "Epoch: 8/10   Training loss: 0.0849   Testing loss: 0.0599   Test accuracy: 0.9809  \n",
            "Epoch: 9/10   Training loss: 0.0795   Testing loss: 0.0545   Test accuracy: 0.9821  \n",
            "Epoch: 10/10   Training loss: 0.0725   Testing loss: 0.0493   Test accuracy: 0.9831  \n"
          ],
          "name": "stdout"
        }
      ]
    },
    {
      "cell_type": "code",
      "metadata": {
        "id": "k-F5mzB7spVV",
        "colab": {
          "base_uri": "https://localhost:8080/",
          "height": 265
        },
        "outputId": "da3a7484-57d4-4a41-b7d4-4926dd52c7aa"
      },
      "source": [
        "plt.plot(train_losses, label='Training loss')\n",
        "plt.plot(test_losses, label='Test loss')\n",
        "plt.legend()\n",
        "plt.grid()"
      ],
      "execution_count": null,
      "outputs": [
        {
          "output_type": "display_data",
          "data": {
            "image/png": "[encoded data removed]",
            "text/plain": [
              "<Figure size 432x288 with 1 Axes>"
            ]
          },
          "metadata": {
            "tags": [],
            "image/png": {
              "width": 372,
              "height": 248
            },
            "needs_background": "light"
          }
        }
      ]
    },
    {
      "cell_type": "code",
      "metadata": {
        "id": "Kuh8qSBK8geL",
        "colab": {
          "base_uri": "https://localhost:8080/"
        },
        "outputId": "736edf67-cf89-4821-eaf9-e136d0de65c3"
      },
      "source": [
        "img = images[0]\n",
        "img = img.to(device)\n",
        "img = img.view(-1, 1, 28, 28)\n",
        "print(img.shape)\n",
        "\n",
        "\n",
        "with torch.no_grad():\n",
        "    logits = model.forward(img)"
      ],
      "execution_count": null,
      "outputs": [
        {
          "output_type": "stream",
          "text": [
            "torch.Size([1, 1, 28, 28])\n"
          ],
          "name": "stdout"
        }
      ]
    },
    {
      "cell_type": "code",
      "metadata": {
        "colab": {
          "base_uri": "https://localhost:8080/",
          "height": 17
        },
        "id": "6IoY2D9GqB8S",
        "outputId": "3e1c21da-3804-41cf-9233-d867036770b1"
      },
      "source": [
        "# save the model\n",
        "torch.save(model.state_dict(), 'cnn_mnist.pth')\n",
        "\n",
        "# download checkpoint file\n",
        "files.download('cnn_mnist.pth')"
      ],
      "execution_count": null,
      "outputs": [
        {
          "output_type": "display_data",
          "data": {
            "application/javascript": [
              "\n",
              "    async function download(id, filename, size) {\n",
              "      if (!google.colab.kernel.accessAllowed) {\n",
              "        return;\n",
              "      }\n",
              "      const div = document.createElement('div');\n",
              "      const label = document.createElement('label');\n",
              "      label.textContent = `Downloading \"${filename}\": `;\n",
              "      div.appendChild(label);\n",
              "      const progress = document.createElement('progress');\n",
              "      progress.max = size;\n",
              "      div.appendChild(progress);\n",
              "      document.body.appendChild(div);\n",
              "\n",
              "      const buffers = [];\n",
              "      let downloaded = 0;\n",
              "\n",
              "      const channel = await google.colab.kernel.comms.open(id);\n",
              "      // Send a message to notify the kernel that we're ready.\n",
              "      channel.send({})\n",
              "\n",
              "      for await (const message of channel.messages) {\n",
              "        // Send a message to notify the kernel that we're ready.\n",
              "        channel.send({})\n",
              "        if (message.buffers) {\n",
              "          for (const buffer of message.buffers) {\n",
              "            buffers.push(buffer);\n",
              "            downloaded += buffer.byteLength;\n",
              "            progress.value = downloaded;\n",
              "          }\n",
              "        }\n",
              "      }\n",
              "      const blob = new Blob(buffers, {type: 'application/binary'});\n",
              "      const a = document.createElement('a');\n",
              "      a.href = window.URL.createObjectURL(blob);\n",
              "      a.download = filename;\n",
              "      div.appendChild(a);\n",
              "      a.click();\n",
              "      div.remove();\n",
              "    }\n",
              "  "
            ],
            "text/plain": [
              "<IPython.core.display.Javascript object>"
            ]
          },
          "metadata": {
            "tags": []
          }
        },
        {
          "output_type": "display_data",
          "data": {
            "application/javascript": [
              "download(\"download_40ddc4b1-9fe3-4758-a5e4-2fc88d6f074b\", \"cnn_mnist.pth\", 318219)"
            ],
            "text/plain": [
              "<IPython.core.display.Javascript object>"
            ]
          },
          "metadata": {
            "tags": []
          }
        }
      ]
    },
    {
      "cell_type": "code",
      "metadata": {
        "id": "MhyJ7CAkqTiP"
      },
      "source": [],
      "execution_count": null,
      "outputs": []
    }
  ]
}